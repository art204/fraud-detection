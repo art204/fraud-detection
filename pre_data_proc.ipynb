{
 "cells": [
  {
   "cell_type": "code",
   "execution_count": 1,
   "id": "913f396a",
   "metadata": {},
   "outputs": [
    {
     "data": {
      "text/html": [
       "<style>.container { width:100% !important; }</style>"
      ],
      "text/plain": [
       "<IPython.core.display.HTML object>"
      ]
     },
     "metadata": {},
     "output_type": "display_data"
    }
   ],
   "source": [
    "import itertools as it\n",
    "from IPython.display import display, HTML\n",
    "display(HTML(\"<style>.container { width:100% !important; }</style>\"))\n",
    "import pandas as pd\n",
    "import numpy as np\n",
    "import seaborn as sns\n",
    "import matplotlib.pyplot as plt\n",
    "import plotly\n",
    "import plotly.graph_objects as go\n",
    "from plotly.subplots import make_subplots\n",
    "import itertools as it\n",
    "from collections import defaultdict\n",
    "import seaborn as sns\n",
    "pd.set_option('display.max_columns', None)\n",
    "from sklearn.model_selection import train_test_split\n",
    "from sklearn import preprocessing\n",
    "from sklearn.metrics import r2_score\n",
    "from sklearn.linear_model import Ridge\n",
    "from sklearn.linear_model import SGDRegressor\n",
    "from sklearn.linear_model import LinearRegression\n",
    "from sklearn.linear_model import LogisticRegression\n",
    "from sklearn import preprocessing"
   ]
  },
  {
   "cell_type": "code",
   "execution_count": 2,
   "id": "f175efb8",
   "metadata": {},
   "outputs": [],
   "source": [
    "path_common_source_trans = '/home/user/Desktop/courseProject/data/train_transaction.csv'\n",
    "path_common_source_idn = '/home/user/Desktop/courseProject/data/train_identity.csv'\n",
    "path_to_data_folder = '/home/user/Desktop/courseProject/data/'"
   ]
  },
  {
   "cell_type": "code",
   "execution_count": 3,
   "id": "9a5e3226",
   "metadata": {},
   "outputs": [],
   "source": [
    "clear_data = pd.read_csv(path_to_data_folder + '/clear_and_filled.csv')"
   ]
  },
  {
   "cell_type": "code",
   "execution_count": 4,
   "id": "55aae2a1",
   "metadata": {},
   "outputs": [
    {
     "data": {
      "text/plain": [
       "Index(['TransactionID', 'isFraud', 'TransactionDT', 'TransactionAmt',\n",
       "       'ProductCD', 'card1', 'card2', 'card3', 'card4', 'card5',\n",
       "       ...\n",
       "       'id_20', 'id_28', 'id_29', 'id_31', 'id_35', 'id_36', 'id_37', 'id_38',\n",
       "       'DeviceType', 'DeviceInfo'],\n",
       "      dtype='object', length=218)"
      ]
     },
     "execution_count": 4,
     "metadata": {},
     "output_type": "execute_result"
    }
   ],
   "source": [
    "clear_data.columns"
   ]
  },
  {
   "cell_type": "code",
   "execution_count": 5,
   "id": "f5847ead",
   "metadata": {},
   "outputs": [],
   "source": [
    "# encoding sources\n",
    "cat_dum = ['card4', 'card6','ProductCD', 'P_emaildomain', 'R_emaildomain', 'M1', \n",
    "           'M2', 'M3', 'M4','M5', 'M6', 'M7', 'M8', 'M9', 'id_12', 'id_15', 'id_16', 'id_28', 'id_29', 'id_35', 'id_36', 'id_37'\n",
    "          , 'id_38', 'DeviceType']\n",
    "mean_dum = ['id_31', 'DeviceInfo', 'card1', 'card2',  'card3', 'card5', 'addr1', 'addr2']\n",
    "\n",
    "def get_mean_encoding(df, group, target):\n",
    "    \"\"\"Group a Pandas DataFrame by a given column and return the mean encoding of the target variable for that grouping.\n",
    "    \n",
    "    Args:\n",
    "        :param df: Pandas DataFrame.\n",
    "        :param group: Column to group by. \n",
    "        :param target: Target variable column.\n",
    "        \n",
    "    Returns:\n",
    "        Mean for the target variable across the group.\n",
    "    \n",
    "    Example: \n",
    "        df['mean_encoding_postcode_area'] = get_mean_encoding(df, 'postcode_area', 'attended')\n",
    "    \"\"\"\n",
    "    \n",
    "    mean_encoded = df.groupby(group)[target].mean()\n",
    "    return df[group].map(mean_encoded)"
   ]
  },
  {
   "cell_type": "code",
   "execution_count": 13,
   "id": "03b784c1",
   "metadata": {},
   "outputs": [],
   "source": [
    "#y = clear_data['isFraud']\n",
    "X = clear_data #.drop('isFraud', axis=1)\n",
    "\n",
    "\n",
    "# code One Hot Encoding only cat_dum - cols\n",
    "X = pd.get_dummies(X, drop_first=True, columns=cat_dum)\n",
    "X_red_mean = X.copy()\n",
    "X_red_mean.drop(columns=mean_dum)\n",
    "for col in mean_dum:\n",
    "    t = get_mean_encoding(X, col, 'isFraud')\n",
    "    X_red_mean[t.name] = t.values\n",
    "X = X_red_mean.copy()\n",
    "ALL = X.copy()\n",
    "ALL.to_csv(path_to_data_folder + '/clear_and_encoded.csv', index=False)\n",
    "y = X['isFraud']\n",
    "X = X.drop('isFraud', axis=1)\n",
    "# !!! attention\n",
    "X = X.drop('TransactionID', axis=1)\n",
    "Xtrain, Xtest, ytrain, ytest = train_test_split(X, y, test_size=0.25, random_state=123)"
   ]
  },
  {
   "cell_type": "markdown",
   "id": "4eca1f9e",
   "metadata": {},
   "source": [
    "### Обучение модели и оценка качества"
   ]
  },
  {
   "cell_type": "code",
   "execution_count": 7,
   "id": "981d6d75",
   "metadata": {},
   "outputs": [
    {
     "name": "stdout",
     "output_type": "stream",
     "text": [
      "0.6563593938314705\n",
      "0.6701958852556307\n"
     ]
    }
   ],
   "source": [
    "model = LinearRegression()\n",
    "model.fit(Xtrain, ytrain)\n",
    "print(r2_score(ytest, model.predict(Xtest)))\n",
    "print(r2_score(ytrain, model.predict(Xtrain)))"
   ]
  },
  {
   "cell_type": "code",
   "execution_count": 8,
   "id": "80ac5751",
   "metadata": {},
   "outputs": [
    {
     "name": "stderr",
     "output_type": "stream",
     "text": [
      "/home/user/anaconda3/lib/python3.9/site-packages/sklearn/linear_model/_ridge.py:157: LinAlgWarning: Ill-conditioned matrix (rcond=1.3467e-19): result may not be accurate.\n",
      "  return linalg.solve(A, Xy, sym_pos=True, overwrite_a=True).T\n"
     ]
    },
    {
     "name": "stdout",
     "output_type": "stream",
     "text": [
      "0.6563794468096953\n",
      "0.6701916080725311\n"
     ]
    }
   ],
   "source": [
    "model_l2 = Ridge(alpha=1)\n",
    "model_l2.fit(Xtrain, ytrain)\n",
    "print(r2_score(ytest, model_l2.predict(Xtest)))\n",
    "print(r2_score(ytrain, model_l2.predict(Xtrain)))"
   ]
  },
  {
   "cell_type": "code",
   "execution_count": 9,
   "id": "948af60e",
   "metadata": {},
   "outputs": [
    {
     "name": "stderr",
     "output_type": "stream",
     "text": [
      "/home/user/anaconda3/lib/python3.9/site-packages/sklearn/linear_model/_stochastic_gradient.py:165: FutureWarning: The loss 'squared_loss' was deprecated in v1.0 and will be removed in version 1.2. Use `loss='squared_error'` which is equivalent.\n",
      "  warnings.warn(\n"
     ]
    },
    {
     "name": "stdout",
     "output_type": "stream",
     "text": [
      "-2.10873963688887e+44\n",
      "-2.0501756595121098e+44\n"
     ]
    }
   ],
   "source": [
    "lr_mse = SGDRegressor(loss='squared_loss')\n",
    "lr_mse.fit(Xtrain, ytrain)\n",
    "print(r2_score(ytest,lr_mse.predict(Xtest)))\n",
    "print(r2_score(ytrain,lr_mse.predict(Xtrain)))"
   ]
  },
  {
   "cell_type": "code",
   "execution_count": 10,
   "id": "3141ccc1",
   "metadata": {},
   "outputs": [
    {
     "name": "stdout",
     "output_type": "stream",
     "text": [
      "-1.5713495469033033e+20\n"
     ]
    },
    {
     "name": "stderr",
     "output_type": "stream",
     "text": [
      "/home/user/anaconda3/lib/python3.9/site-packages/sklearn/linear_model/_stochastic_gradient.py:1503: ConvergenceWarning: Maximum number of iteration reached before convergence. Consider increasing max_iter to improve the fit.\n",
      "  warnings.warn(\n"
     ]
    },
    {
     "ename": "NameError",
     "evalue": "name 'r_mae' is not defined",
     "output_type": "error",
     "traceback": [
      "\u001b[0;31m---------------------------------------------------------------------------\u001b[0m",
      "\u001b[0;31mNameError\u001b[0m                                 Traceback (most recent call last)",
      "\u001b[0;32m/tmp/ipykernel_59461/2496139572.py\u001b[0m in \u001b[0;36m<module>\u001b[0;34m\u001b[0m\n\u001b[1;32m      2\u001b[0m \u001b[0mlr_mae\u001b[0m\u001b[0;34m.\u001b[0m\u001b[0mfit\u001b[0m\u001b[0;34m(\u001b[0m\u001b[0mXtrain\u001b[0m\u001b[0;34m,\u001b[0m \u001b[0mytrain\u001b[0m\u001b[0;34m)\u001b[0m\u001b[0;34m\u001b[0m\u001b[0;34m\u001b[0m\u001b[0m\n\u001b[1;32m      3\u001b[0m \u001b[0mprint\u001b[0m\u001b[0;34m(\u001b[0m\u001b[0mr2_score\u001b[0m\u001b[0;34m(\u001b[0m\u001b[0mytest\u001b[0m\u001b[0;34m,\u001b[0m \u001b[0mlr_mae\u001b[0m\u001b[0;34m.\u001b[0m\u001b[0mpredict\u001b[0m\u001b[0;34m(\u001b[0m\u001b[0mXtest\u001b[0m\u001b[0;34m)\u001b[0m\u001b[0;34m)\u001b[0m\u001b[0;34m)\u001b[0m\u001b[0;34m\u001b[0m\u001b[0;34m\u001b[0m\u001b[0m\n\u001b[0;32m----> 4\u001b[0;31m \u001b[0mprint\u001b[0m\u001b[0;34m(\u001b[0m\u001b[0mr2_score\u001b[0m\u001b[0;34m(\u001b[0m\u001b[0mytrain\u001b[0m\u001b[0;34m,\u001b[0m \u001b[0mr_mae\u001b[0m\u001b[0;34m.\u001b[0m\u001b[0mpredict\u001b[0m\u001b[0;34m(\u001b[0m\u001b[0mXtrain\u001b[0m\u001b[0;34m)\u001b[0m\u001b[0;34m)\u001b[0m\u001b[0;34m)\u001b[0m\u001b[0;34m\u001b[0m\u001b[0;34m\u001b[0m\u001b[0m\n\u001b[0m",
      "\u001b[0;31mNameError\u001b[0m: name 'r_mae' is not defined"
     ]
    }
   ],
   "source": [
    "lr_mae = SGDRegressor(loss='epsilon_insensitive', epsilon=0)\n",
    "lr_mae.fit(Xtrain, ytrain)\n",
    "print(r2_score(ytest, lr_mae.predict(Xtest)))\n",
    "print(r2_score(ytrain, lr_mae.predict(Xtrain)))"
   ]
  },
  {
   "cell_type": "code",
   "execution_count": 15,
   "id": "7fab4a92",
   "metadata": {},
   "outputs": [
    {
     "data": {
      "text/plain": [
       "-0.04273204597876812"
      ]
     },
     "execution_count": 15,
     "metadata": {},
     "output_type": "execute_result"
    }
   ],
   "source": [
    "logreg = LogisticRegression(max_iter=1000)\n",
    "logreg.fit(Xtrain, ytrain)\n",
    "r2_score(ytest, logreg.predict(Xtest))\n",
    "r2_score(ytrain, logreg.predict(Xtrain))"
   ]
  },
  {
   "cell_type": "code",
   "execution_count": 14,
   "id": "7c83db76",
   "metadata": {},
   "outputs": [
    {
     "data": {
      "text/plain": [
       "Index(['TransactionDT', 'TransactionAmt', 'card1', 'card2', 'card3', 'card5',\n",
       "       'addr1', 'addr2', 'dist1', 'C1',\n",
       "       ...\n",
       "       'id_15_New', 'id_15_Unknown', 'id_16_NotFound', 'id_28_New',\n",
       "       'id_29_NotFound', 'id_35_T', 'id_36_T', 'id_37_T', 'id_38_T',\n",
       "       'DeviceType_mobile'],\n",
       "      dtype='object', length=340)"
      ]
     },
     "execution_count": 14,
     "metadata": {},
     "output_type": "execute_result"
    }
   ],
   "source": [
    "X.columns"
   ]
  },
  {
   "cell_type": "markdown",
   "id": "b5f9e416",
   "metadata": {},
   "source": [
    "### Correlation"
   ]
  },
  {
   "cell_type": "code",
   "execution_count": null,
   "id": "3251b909",
   "metadata": {},
   "outputs": [],
   "source": [
    "for col in X.columns:\n",
    "    t = y.corr(X.loc[:,col])\n",
    "    if abs(t) > 0.3:\n",
    "        print(t, col)"
   ]
  },
  {
   "cell_type": "code",
   "execution_count": null,
   "id": "5244b247",
   "metadata": {},
   "outputs": [],
   "source": [
    "X.corr()"
   ]
  },
  {
   "cell_type": "code",
   "execution_count": 21,
   "id": "3beba8f5",
   "metadata": {},
   "outputs": [
    {
     "data": {
      "text/plain": [
       "(590540, 340)"
      ]
     },
     "execution_count": 21,
     "metadata": {},
     "output_type": "execute_result"
    }
   ],
   "source": [
    "X.shape"
   ]
  },
  {
   "cell_type": "markdown",
   "id": "04317f54",
   "metadata": {},
   "source": [
    "# Normalize attemp"
   ]
  },
  {
   "cell_type": "code",
   "execution_count": 18,
   "id": "e64ebb44",
   "metadata": {},
   "outputs": [],
   "source": [
    "normalizer = preprocessing.MinMaxScaler()\n",
    "X_norm = normalizer.fit_transform(X)\n",
    "X_norm = pd.DataFrame(data=X_norm)\n",
    "X_n_train, X_n_test, y_n_train, y_n_test = train_test_split(X_norm, y, test_size=0.25, random_state=123)"
   ]
  },
  {
   "cell_type": "code",
   "execution_count": 19,
   "id": "32230dde",
   "metadata": {},
   "outputs": [
    {
     "data": {
      "text/plain": [
       "0.9998672946807535"
      ]
     },
     "execution_count": 19,
     "metadata": {},
     "output_type": "execute_result"
    }
   ],
   "source": [
    "logreg = LogisticRegression(max_iter=1000)\n",
    "logreg.fit(X_n_train, y_n_train)\n",
    "r2_score(ytest, logreg.predict(X_n_test))\n",
    "r2_score(ytrain, logreg.predict(X_n_train))"
   ]
  },
  {
   "cell_type": "code",
   "execution_count": 26,
   "id": "5b9d26d1",
   "metadata": {},
   "outputs": [
    {
     "data": {
      "text/plain": [
       "229"
      ]
     },
     "execution_count": 26,
     "metadata": {},
     "output_type": "execute_result"
    }
   ],
   "source": [
    "(logreg.coef_ < 0.05).sum()"
   ]
  },
  {
   "cell_type": "code",
   "execution_count": 36,
   "id": "dd9e11a8",
   "metadata": {},
   "outputs": [
    {
     "name": "stdout",
     "output_type": "stream",
     "text": [
      "[10, 11, 18, 20, 21, 24, 25, 26, 27, 28, 30, 38, 39, 42, 50, 58, 61, 62, 72, 77, 78, 79, 80, 81, 82, 83, 86, 87, 88, 89, 90, 93, 96, 97, 98, 99, 100, 102, 110, 117, 123, 125, 127, 128, 129, 130, 132, 135, 136, 142, 143, 155, 156, 157, 159, 161, 170, 171, 173, 175, 179, 180, 197, 202, 205, 206, 207, 208, 209, 212, 213, 214, 215, 216, 219, 221, 225, 228, 232, 233, 234, 237, 240, 241, 242, 245, 246, 247, 248, 251, 252, 253, 256, 257, 258, 263, 264, 265, 266, 267, 269, 270, 271, 272, 273, 277, 278, 279, 283, 286, 287, 289, 291, 293, 295, 298, 299, 300, 301, 302, 303, 304, 305, 306, 307, 310, 311, 312, 315, 316, 317, 318, 319, 321]\n"
     ]
    }
   ],
   "source": [
    "t = logreg.coef_[0]\n",
    "#for i in range(len(t)):\n",
    "#   if t[i]< 0.05:\n",
    "#        print(\"h\")\n",
    "print([i for i in range(len(t)) if abs(t[i])< 0.05])"
   ]
  },
  {
   "cell_type": "code",
   "execution_count": 37,
   "id": "83efc7d9",
   "metadata": {},
   "outputs": [],
   "source": [
    "removed_cols = []\n",
    "for i in range(len(logreg.coef_[0])):\n",
    "    coef = logreg.coef_[0][i]\n",
    "    if abs(coef) < 0.05:\n",
    "        removed_cols.append(X.columns[i])"
   ]
  },
  {
   "cell_type": "code",
   "execution_count": 38,
   "id": "589b20ba",
   "metadata": {},
   "outputs": [
    {
     "data": {
      "text/plain": [
       "['C3',\n",
       " 'C5',\n",
       " 'D11',\n",
       " 'V1',\n",
       " 'V2',\n",
       " 'V6',\n",
       " 'V7',\n",
       " 'V8',\n",
       " 'V9',\n",
       " 'V10',\n",
       " 'V14',\n",
       " 'V27',\n",
       " 'V29',\n",
       " 'V37',\n",
       " 'V49',\n",
       " 'V65',\n",
       " 'V68',\n",
       " 'V70',\n",
       " 'V95',\n",
       " 'V105',\n",
       " 'V107',\n",
       " 'V108',\n",
       " 'V109',\n",
       " 'V110',\n",
       " 'V111',\n",
       " 'V112',\n",
       " 'V116',\n",
       " 'V117',\n",
       " 'V118',\n",
       " 'V119',\n",
       " 'V120',\n",
       " 'V123',\n",
       " 'V129',\n",
       " 'V130',\n",
       " 'V131',\n",
       " 'V135',\n",
       " 'V136',\n",
       " 'V170',\n",
       " 'V181',\n",
       " 'V191',\n",
       " 'V205',\n",
       " 'V208',\n",
       " 'V210',\n",
       " 'V214',\n",
       " 'V215',\n",
       " 'V217',\n",
       " 'V221',\n",
       " 'V226',\n",
       " 'V227',\n",
       " 'V240',\n",
       " 'V241',\n",
       " 'V264',\n",
       " 'V267',\n",
       " 'V268',\n",
       " 'V274',\n",
       " 'V282',\n",
       " 'V291',\n",
       " 'V300',\n",
       " 'V305',\n",
       " 'V311',\n",
       " 'V319',\n",
       " 'V320',\n",
       " 'card6_debit or credit',\n",
       " 'P_emaildomain_anonymous.com',\n",
       " 'P_emaildomain_bellsouth.net',\n",
       " 'P_emaildomain_cableone.net',\n",
       " 'P_emaildomain_centurylink.net',\n",
       " 'P_emaildomain_cfl.rr.com',\n",
       " 'P_emaildomain_charter.net',\n",
       " 'P_emaildomain_earthlink.net',\n",
       " 'P_emaildomain_embarqmail.com',\n",
       " 'P_emaildomain_frontier.com',\n",
       " 'P_emaildomain_frontiernet.net',\n",
       " 'P_emaildomain_gmail',\n",
       " 'P_emaildomain_hotmail.co.uk',\n",
       " 'P_emaildomain_hotmail.de',\n",
       " 'P_emaildomain_juno.com',\n",
       " 'P_emaildomain_live.fr',\n",
       " 'P_emaildomain_msn.com',\n",
       " 'P_emaildomain_netzero.com',\n",
       " 'P_emaildomain_netzero.net',\n",
       " 'P_emaildomain_outlook.es',\n",
       " 'P_emaildomain_ptd.net',\n",
       " 'P_emaildomain_q.com',\n",
       " 'P_emaildomain_roadrunner.com',\n",
       " 'P_emaildomain_sc.rr.com',\n",
       " 'P_emaildomain_servicios-ta.com',\n",
       " 'P_emaildomain_suddenlink.net',\n",
       " 'P_emaildomain_twc.com',\n",
       " 'P_emaildomain_windstream.net',\n",
       " 'P_emaildomain_yahoo.co.jp',\n",
       " 'P_emaildomain_yahoo.co.uk',\n",
       " 'P_emaildomain_yahoo.de',\n",
       " 'P_emaildomain_yahoo.es',\n",
       " 'P_emaildomain_yahoo.fr',\n",
       " 'R_emaildomain_bellsouth.net',\n",
       " 'R_emaildomain_cableone.net',\n",
       " 'R_emaildomain_centurylink.net',\n",
       " 'R_emaildomain_cfl.rr.com',\n",
       " 'R_emaildomain_charter.net',\n",
       " 'R_emaildomain_cox.net',\n",
       " 'R_emaildomain_earthlink.net',\n",
       " 'R_emaildomain_embarqmail.com',\n",
       " 'R_emaildomain_frontier.com',\n",
       " 'R_emaildomain_frontiernet.net',\n",
       " 'R_emaildomain_hotmail.co.uk',\n",
       " 'R_emaildomain_hotmail.com',\n",
       " 'R_emaildomain_hotmail.de',\n",
       " 'R_emaildomain_juno.com',\n",
       " 'R_emaildomain_live.fr',\n",
       " 'R_emaildomain_mac.com',\n",
       " 'R_emaildomain_me.com',\n",
       " 'R_emaildomain_netzero.com',\n",
       " 'R_emaildomain_optonline.net',\n",
       " 'R_emaildomain_outlook.es',\n",
       " 'R_emaildomain_ptd.net',\n",
       " 'R_emaildomain_q.com',\n",
       " 'R_emaildomain_roadrunner.com',\n",
       " 'R_emaildomain_rocketmail.com',\n",
       " 'R_emaildomain_sbcglobal.net',\n",
       " 'R_emaildomain_sc.rr.com',\n",
       " 'R_emaildomain_scranton.edu',\n",
       " 'R_emaildomain_servicios-ta.com',\n",
       " 'R_emaildomain_suddenlink.net',\n",
       " 'R_emaildomain_twc.com',\n",
       " 'R_emaildomain_windstream.net',\n",
       " 'R_emaildomain_yahoo.co.jp',\n",
       " 'R_emaildomain_yahoo.co.uk',\n",
       " 'R_emaildomain_yahoo.de',\n",
       " 'R_emaildomain_yahoo.es',\n",
       " 'R_emaildomain_yahoo.fr',\n",
       " 'R_emaildomain_ymail.com',\n",
       " 'M1_T',\n",
       " 'M3_T']"
      ]
     },
     "execution_count": 38,
     "metadata": {},
     "output_type": "execute_result"
    }
   ],
   "source": [
    "removed_cols"
   ]
  },
  {
   "cell_type": "code",
   "execution_count": 54,
   "id": "b1d56aee",
   "metadata": {},
   "outputs": [
    {
     "data": {
      "text/plain": [
       "(array([  1.,   0.,   0.,   1.,  25., 303.,   7.,   1.,   0.,   2.]),\n",
       " array([-14.53939177, -11.72056357,  -8.90173537,  -6.08290717,\n",
       "         -3.26407897,  -0.44525077,   2.37357743,   5.19240563,\n",
       "          8.01123384,  10.83006204,  13.64889024]),\n",
       " <BarContainer object of 10 artists>)"
      ]
     },
     "execution_count": 54,
     "metadata": {},
     "output_type": "execute_result"
    },
    {
     "data": {
      "image/png": "[encoded data removed]",
      "text/plain": [
       "<Figure size 640x480 with 1 Axes>"
      ]
     },
     "metadata": {},
     "output_type": "display_data"
    }
   ],
   "source": [
    "plt.hist(logreg.coef_[0].T, log=True)"
   ]
  },
  {
   "cell_type": "code",
   "execution_count": 48,
   "id": "bf1ef730",
   "metadata": {},
   "outputs": [
    {
     "data": {
      "text/plain": [
       "<AxesSubplot:ylabel='Count'>"
      ]
     },
     "execution_count": 48,
     "metadata": {},
     "output_type": "execute_result"
    },
    {
     "data": {
      "image/png": "[encoded data removed]",
      "text/plain": [
       "<Figure size 640x480 with 1 Axes>"
      ]
     },
     "metadata": {},
     "output_type": "display_data"
    }
   ],
   "source": [
    "sns.histplot(abs(logreg.coef_[0]), log_scale=True)"
   ]
  },
  {
   "cell_type": "code",
   "execution_count": null,
   "id": "48f5470e",
   "metadata": {},
   "outputs": [],
   "source": []
  }
 ],
 "metadata": {
  "kernelspec": {
   "display_name": "Python 3 (ipykernel)",
   "language": "python",
   "name": "python3"
  },
  "language_info": {
   "codemirror_mode": {
    "name": "ipython",
    "version": 3
   },
   "file_extension": ".py",
   "mimetype": "text/x-python",
   "name": "python",
   "nbconvert_exporter": "python",
   "pygments_lexer": "ipython3",
   "version": "3.9.13"
  }
 },
 "nbformat": 4,
 "nbformat_minor": 5
}
