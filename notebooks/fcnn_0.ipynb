{
 "cells": [
  {
   "cell_type": "code",
   "execution_count": 1,
   "id": "bbb482b2",
   "metadata": {},
   "outputs": [],
   "source": [
    "import pandas as pd\n",
    "import numpy as np\n",
    "np.random.seed(42)\n",
    "import torch\n",
    "from torch import nn\n",
    "from torch.utils.data import TensorDataset, DataLoader\n",
    "\n",
    "from sklearn.model_selection import train_test_split\n",
    "from sklearn import preprocessing\n",
    "from sklearn.linear_model import LogisticRegression\n",
    "from sklearn.impute import SimpleImputer\n",
    "from sklearn.pipeline import Pipeline\n",
    "from sklearn.model_selection import cross_validate, cross_val_score\n",
    "from sklearn.model_selection import GridSearchCV, StratifiedKFold\n",
    "from sklearn.base import TransformerMixin, BaseEstimator\n",
    "from collections import OrderedDict\n",
    "\n",
    "import matplotlib.pyplot as plt\n",
    "import seaborn as sns\n",
    "plt.rcParams.update({'font.size': 16})\n",
    "sns.set_style('whitegrid')\n",
    "from tqdm.notebook import tqdm\n",
    "from IPython.display import clear_output\n",
    "from matplotlib import ticker\n",
    "# unused but required import for doing 3d projections with matplotlib < 3.2\n",
    "import mpl_toolkits.mplot3d  # noqa: F401\n",
    "from sklearn import manifold\n",
    "\n",
    "from category_encoders.target_encoder import TargetEncoder\n",
    "from imblearn.under_sampling import NearMiss\n",
    "from sklearn.metrics import f1_score\n",
    "\n",
    "from sklearn.metrics import precision_score\n",
    "from sklearn.metrics import recall_score\n",
    "\n",
    "from sklearn.feature_selection import SelectFromModel\n",
    "\n",
    "from lightgbm import LGBMClassifier\n",
    "from catboost import CatBoostClassifier\n",
    "from xgboost import XGBClassifier\n",
    "from sklearn.ensemble import RandomForestClassifier, GradientBoostingClassifier, StackingClassifier\n",
    "from sklearn.linear_model import LogisticRegression\n",
    "\n",
    "from sklearn.metrics import f1_score, precision_score, recall_score, accuracy_score, roc_auc_score, precision_recall_curve\n",
    "from sklearn.metrics import confusion_matrix, RocCurveDisplay, PrecisionRecallDisplay, classification_report, auc\n",
    "\n",
    "import optuna\n",
    "from optuna.samplers import TPESampler\n",
    "from optuna.pruners import HyperbandPruner\n",
    "\n",
    "import pickle\n",
    "random_state = 42\n",
    "\n",
    "import warnings\n",
    "warnings.filterwarnings(\"ignore\")"
   ]
  },
  {
   "cell_type": "code",
   "execution_count": 2,
   "id": "75e121b5",
   "metadata": {},
   "outputs": [],
   "source": [
    "raw_data = pd.merge(pd.read_csv('../../train_transaction.csv'), pd.read_csv('../../train_identity.csv'),\n",
    "                    left_on='TransactionID', right_on='TransactionID', how='left')"
   ]
  },
  {
   "cell_type": "code",
   "execution_count": 3,
   "id": "53531efe",
   "metadata": {},
   "outputs": [],
   "source": [
    "pd.set_option('display.max_columns', None)"
   ]
  },
  {
   "cell_type": "markdown",
   "id": "a4fababd",
   "metadata": {},
   "source": [
    "### Разделим данные на train и test"
   ]
  },
  {
   "cell_type": "code",
   "execution_count": 3,
   "id": "d26a2e54",
   "metadata": {},
   "outputs": [],
   "source": [
    "X_train, X_test = train_test_split(raw_data, test_size=0.2, random_state=random_state, stratify=raw_data['isFraud'])\n",
    "X_train.reset_index(drop=True, inplace=True)\n",
    "y_train = X_train['isFraud']\n",
    "X_train.drop(columns=['isFraud', 'TransactionID'], inplace=True)\n",
    "\n",
    "X_test.reset_index(drop=True, inplace=True)\n",
    "y_test = X_test['isFraud']\n",
    "X_test.drop(columns=['isFraud', 'TransactionID'], inplace=True)"
   ]
  },
  {
   "cell_type": "code",
   "execution_count": 4,
   "id": "7f541cde",
   "metadata": {},
   "outputs": [],
   "source": [
    "del raw_data"
   ]
  },
  {
   "cell_type": "markdown",
   "id": "eacb55cb",
   "metadata": {},
   "source": [
    "### Колонки с большим количеством пропусков"
   ]
  },
  {
   "cell_type": "markdown",
   "id": "d20a6e60",
   "metadata": {},
   "source": [
    "NanFeatureSelector удаляет колонки, в которых доля пропусков больше max_nan_rate (в нашем случае зададим max_nan_rate = 85%)"
   ]
  },
  {
   "cell_type": "code",
   "execution_count": 5,
   "id": "e2967ee6",
   "metadata": {},
   "outputs": [],
   "source": [
    "class NanFeatureSelector(TransformerMixin, BaseEstimator):\n",
    "\n",
    "    def __init__(self, max_nan_rate):\n",
    "        self.cols_to_remove = []\n",
    "        self.max_nan_rate = max_nan_rate\n",
    "\n",
    "    def fit(self, X, y=None):\n",
    "        nan_stat = self.get_share_of_NaN(X)\n",
    "        for i in range(len(nan_stat)):\n",
    "            column = nan_stat.loc[i]\n",
    "            if (column['Share_of_NaN'] > self.max_nan_rate):\n",
    "                self.cols_to_remove.append(column['Name'])\n",
    "        return self\n",
    "\n",
    "    def transform(self, X):\n",
    "        return X.drop(columns=self.cols_to_remove)\n",
    "\n",
    "    def get_share_of_NaN(self, df):\n",
    "        '''\n",
    "        Рассчитывает количество пропусков в каждой колонке, а также долю пропусков в каждой колонке\n",
    "        Параметры:\n",
    "        df - датафрейм\n",
    "        Возвращает датафрейм, содержащий информацию о пропусках в каждой колонке датафрейма df\n",
    "        '''\n",
    "        result = pd.DataFrame(columns=['Name', 'Number_of_NaN', 'Share_of_NaN'])\n",
    "        colcount = df.count()\n",
    "        length = len(df)\n",
    "        for col_name in colcount.keys():\n",
    "            result.loc[len(result)] = [col_name, length - colcount[col_name], (length - colcount[col_name]) / length]\n",
    "        return result\n"
   ]
  },
  {
   "cell_type": "markdown",
   "id": "f84e9bf1",
   "metadata": {},
   "source": [
    "### Колонки с большой корреляцией\n",
    "\n",
    "CorrFeatureSelector удаляет колонки, у которых корреляция больше max_corr (в нашем случае зададим max_corr = 0.9)\n"
   ]
  },
  {
   "cell_type": "code",
   "execution_count": 6,
   "id": "1418e15a",
   "metadata": {},
   "outputs": [],
   "source": [
    "class CorrFeatureSelector(TransformerMixin, BaseEstimator):\n",
    "\n",
    "    def __init__(self, max_corr):\n",
    "        self.cols_to_remove = set()\n",
    "        self.max_corr = max_corr\n",
    "\n",
    "    def fit(self, X, y=None):\n",
    "        corrs = X.corr()\n",
    "        cols = corrs.columns\n",
    "        for i in range(len(cols)):\n",
    "            col_name_1 = cols[i]\n",
    "            if col_name_1 in {'TransactionID', 'isFraud', 'TransactionDT'} or col_name_1 in self.cols_to_remove:\n",
    "                continue\n",
    "            for j in range(i + 1, len(cols)):\n",
    "                col_name_2 = cols[j]\n",
    "                if abs(corrs[col_name_1][col_name_2]) > self.max_corr:\n",
    "                    self.cols_to_remove.add(col_name_2)\n",
    "        return self\n",
    "\n",
    "    def transform(self, X):\n",
    "        return X.drop(columns=self.cols_to_remove)\n"
   ]
  },
  {
   "cell_type": "markdown",
   "id": "71aa279b",
   "metadata": {},
   "source": [
    "### Заполнение пропусков"
   ]
  },
  {
   "cell_type": "code",
   "execution_count": 7,
   "id": "d497b1e8",
   "metadata": {},
   "outputs": [],
   "source": [
    "class CustomImputer(TransformerMixin, BaseEstimator):\n",
    "\n",
    "    def __init__(self, strategy='most_frequent', fill_value=None):\n",
    "        self.__imputer = SimpleImputer(strategy=strategy, fill_value=fill_value)\n",
    "        self.strategy = strategy\n",
    "        self.fill_value = fill_value\n",
    "\n",
    "    def fit(self, X, y=None):\n",
    "        self.__imputer.fit(X)\n",
    "        return self\n",
    "\n",
    "    def transform(self, X, y=None):\n",
    "        X = X.copy()\n",
    "        X[X.columns] = self.__imputer.transform(X[X.columns])\n",
    "\n",
    "        return X\n"
   ]
  },
  {
   "cell_type": "markdown",
   "id": "29be98ad",
   "metadata": {},
   "source": [
    "### Кодирование категориальных признаков\n",
    "Признаки, у которых количество уникальных значений больше, чем ohe_limit, закодируем с помощью TargetEncoder. Признаки, у которых количество уникальных значений меньше либо равно ohe_limit, закодируем с помощью OneHotEncoder.\n",
    "Зададим ohe_limit=10"
   ]
  },
  {
   "cell_type": "code",
   "execution_count": 8,
   "id": "90b6e90e",
   "metadata": {},
   "outputs": [],
   "source": [
    "class ObjectEncoder:\n",
    "    def __init__(self, ohe_limit, obj_cols):\n",
    "        self.__ohe_limit = ohe_limit\n",
    "        self.__obj_cols = obj_cols\n",
    "        self.__ohe_cols = []\n",
    "        self.__targ_enc_cols = []\n",
    "        self.__ohe_enc = None\n",
    "        self.__targ_enc = None\n",
    "\n",
    "    def divide_columns(self, df):\n",
    "        for col in self.__obj_cols:\n",
    "            if col in df.columns:\n",
    "                if col in ['P_emaildomain', 'R_emaildomain'] or df[col].unique().shape[0] <= self.__ohe_limit:\n",
    "                    self.__ohe_cols.append(col)\n",
    "                else:\n",
    "                    self.__targ_enc_cols.append(col)\n",
    "\n",
    "    def add_ohe_cols_in_df(self, df, cat_cols):\n",
    "        transformed = self.__ohe_enc.transform(df[cat_cols].astype(str)).toarray()\n",
    "        ordered_dict = OrderedDict()\n",
    "        transformed_start = 0\n",
    "        transformed_end = 0\n",
    "        for i in range(len(cat_cols)):\n",
    "            col_name = cat_cols[i]\n",
    "            categories = col_name + '_' + self.__ohe_enc.categories_[i]\n",
    "            transformed_end += len(categories)\n",
    "            for j in range(1, len(categories)):\n",
    "                ordered_dict[categories[j]] = transformed[:, transformed_start + j]\n",
    "            transformed_start += len(categories)\n",
    "        df = pd.concat([df, pd.DataFrame(ordered_dict)], axis=1)\n",
    "        df.drop(columns=cat_cols, inplace=True)\n",
    "        return df\n",
    "\n",
    "    def fit(self, X, y):\n",
    "        self.divide_columns(X)\n",
    "        self.__targ_enc = TargetEncoder(cols=self.__targ_enc_cols)\n",
    "        self.__targ_enc.fit(X, y)\n",
    "        self.__ohe_enc = preprocessing.OneHotEncoder()\n",
    "        self.__ohe_enc.fit(X[self.__ohe_cols].astype(str))\n",
    "\n",
    "    def transform(self, X):\n",
    "        X = self.__targ_enc.transform(X)\n",
    "        return self.add_ohe_cols_in_df(X, self.__ohe_cols)\n",
    "\n",
    "    def fit_transform(self, X, y):\n",
    "        self.divide_columns(X)\n",
    "        self.__targ_enc = TargetEncoder(cols=self.__targ_enc_cols)\n",
    "        X = self.__targ_enc.fit_transform(X, y)\n",
    "        self.__ohe_enc = preprocessing.OneHotEncoder()\n",
    "        self.__ohe_enc.fit(X[self.__ohe_cols].astype(str))\n",
    "        return self.add_ohe_cols_in_df(X, self.__ohe_cols)\n"
   ]
  },
  {
   "cell_type": "markdown",
   "id": "e50ccbe5",
   "metadata": {},
   "source": [
    "### Масштабирование числовых признаков"
   ]
  },
  {
   "cell_type": "code",
   "execution_count": 9,
   "id": "06e61ff9",
   "metadata": {},
   "outputs": [],
   "source": [
    "class CustomScaler(TransformerMixin, BaseEstimator):\n",
    "\n",
    "    def __init__(self, cols, scaler=None):\n",
    "        self.cols = cols\n",
    "        self.scaler = scaler or preprocessing.MinMaxScaler()\n",
    "\n",
    "    def fit(self, X, y=None):\n",
    "        self.cols = list(set(self.cols).intersection(set(X.columns)))\n",
    "        num_cols = X[self.cols]\n",
    "        self.scaler.fit(num_cols)\n",
    "        return self\n",
    "\n",
    "    def transform(self, X, y=None):\n",
    "        X_res = X.copy()\n",
    "        X_res[self.cols] = self.scaler.transform(X_res[self.cols])\n",
    "        return X_res\n"
   ]
  },
  {
   "cell_type": "markdown",
   "id": "1779500e",
   "metadata": {},
   "source": [
    "### Категориальные признаки"
   ]
  },
  {
   "cell_type": "code",
   "execution_count": 10,
   "id": "33a9d695",
   "metadata": {},
   "outputs": [],
   "source": [
    "cat_cols = ['ProductCD', 'card1', 'card2', 'card3', 'card4', 'card5', 'card6',\n",
    "            'addr1', 'addr2', 'P_emaildomain', 'R_emaildomain',\n",
    "            'M1', 'M2', 'M3', 'M4', 'M5', 'M6', 'M7', 'M8', 'M9',\n",
    "            'DeviceType', 'DeviceInfo', 'id_12', 'id_13', 'id_14', 'id_15', 'id_16', 'id_17', 'id_18', 'id_19', 'id_20'\n",
    "            'id_21', 'id_22', 'id_23', 'id_24', 'id_25', 'id_26', 'id_27', 'id_28', 'id_29', 'id_30', 'id_31', 'id_32'\n",
    "            'id_33', 'id_34', 'id_35', 'id_36', 'id_37', 'id_38']"
   ]
  },
  {
   "cell_type": "markdown",
   "id": "16ccda1d",
   "metadata": {},
   "source": [
    "### Числовые признаки"
   ]
  },
  {
   "cell_type": "code",
   "execution_count": 11,
   "id": "f085828f",
   "metadata": {},
   "outputs": [],
   "source": [
    "real_cols = list(X_train.columns)\n",
    "\n",
    "for col in cat_cols:\n",
    "    if col in real_cols:\n",
    "        real_cols.remove(col)"
   ]
  },
  {
   "cell_type": "markdown",
   "id": "f79fe973",
   "metadata": {},
   "source": [
    "### Пайплайн предобработки данных"
   ]
  },
  {
   "cell_type": "code",
   "execution_count": 12,
   "id": "f9c1638f",
   "metadata": {},
   "outputs": [],
   "source": [
    "# Пайплайн удаляет признаки, у которых более 85% пропусков, а также признаки, у которых корреляция больше 0.9,\n",
    "# заполняет пропуски, кодирует категориальные признаки, масштабирует числовые признаки\n",
    "\n",
    "prep_data_pipe = Pipeline([\n",
    "    ('nan_feature_selector_', NanFeatureSelector(0.85)),\n",
    "    ('corr_feature_selector_', CorrFeatureSelector(0.9)),\n",
    "    ('imputer_', CustomImputer(strategy='constant', fill_value=-999)),\n",
    "    ('encoder_', ObjectEncoder(10, cat_cols)),\n",
    "    ('scaler_', CustomScaler(real_cols, preprocessing.MinMaxScaler()))\n",
    "])"
   ]
  },
  {
   "cell_type": "code",
   "execution_count": 13,
   "id": "d55aa57e",
   "metadata": {
    "scrolled": true
   },
   "outputs": [
    {
     "name": "stdout",
     "output_type": "stream",
     "text": [
      "CPU times: total: 5min 33s\n",
      "Wall time: 5min 39s\n"
     ]
    }
   ],
   "source": [
    "%%time\n",
    "X_train = prep_data_pipe.fit_transform(X_train, y_train)"
   ]
  },
  {
   "cell_type": "markdown",
   "id": "c32bbe4d",
   "metadata": {},
   "source": [
    "## FCNN"
   ]
  },
  {
   "cell_type": "code",
   "execution_count": 14,
   "id": "03a6120e",
   "metadata": {},
   "outputs": [
    {
     "data": {
      "text/plain": [
       "((377945, 364), (94487, 364))"
      ]
     },
     "execution_count": 14,
     "metadata": {},
     "output_type": "execute_result"
    }
   ],
   "source": [
    "X_train, X_val, y_train, y_val = train_test_split(X_train, y_train, test_size=0.2, random_state=42)\n",
    "X_train.shape, X_val.shape"
   ]
  },
  {
   "cell_type": "code",
   "execution_count": 15,
   "id": "0a445c33",
   "metadata": {},
   "outputs": [],
   "source": [
    "def plot_losses(train_losses, train_metrics, val_losses, val_metrics):\n",
    "    '''\n",
    "    Plot losses and metrics while training\n",
    "      - train_losses: sequence of train losses\n",
    "      - train_metrics: sequence of train MSE values\n",
    "      - val_losses: sequence of validation losses\n",
    "      - val_metrics: sequence of validation MSE values\n",
    "    '''\n",
    "    clear_output()\n",
    "    fig, axs = plt.subplots(1, 2, figsize=(15, 5))\n",
    "    axs[0].plot(range(1, len(train_losses) + 1), train_losses, label='train')\n",
    "    axs[0].plot(range(1, len(val_losses) + 1), val_losses, label='val')\n",
    "    axs[1].plot(range(1, len(train_metrics) + 1), train_metrics, label='train')\n",
    "    axs[1].plot(range(1, len(val_metrics) + 1), val_metrics, label='val')\n",
    "\n",
    "    if max(train_losses) / min(train_losses) > 10:\n",
    "        axs[0].set_yscale('log')\n",
    "\n",
    "    if max(train_metrics) / min(train_metrics) > 10:\n",
    "        axs[1].set_yscale('log')\n",
    "\n",
    "    for ax in axs:\n",
    "        ax.set_xlabel('epoch')\n",
    "        ax.legend()\n",
    "\n",
    "    axs[0].set_ylabel('loss')\n",
    "    axs[1].set_ylabel('accuracy')\n",
    "    plt.show()\n",
    "\n",
    "\n",
    "def train_and_validate(model, optimizer, criterion, metric, train_loader, val_loader,\n",
    "                       num_epochs, scheduler=None, verbose=True):\n",
    "    '''\n",
    "    Train and validate neural network\n",
    "      - model: neural network to train\n",
    "      - optimizer: optimizer chained to a model\n",
    "      - criterion: loss function class\n",
    "      - metric: function to measure MSE taking neural networks predictions\n",
    "                 and ground truth labels\n",
    "      - train_loader: DataLoader with train set\n",
    "      - val_loader: DataLoader with validation set\n",
    "      - num_epochs: number of epochs to train\n",
    "      - verbose: whether to plot metrics during training\n",
    "    Returns:\n",
    "      - train_mse: training MSE over the last epoch\n",
    "      - val_mse: validation MSE after the last epoch\n",
    "    '''\n",
    "    train_losses, val_losses = [], []\n",
    "    train_metrics, val_metrics = [], []\n",
    "\n",
    "    for epoch in range(1, num_epochs + 1):\n",
    "        model.train()\n",
    "        running_loss, running_metric = 0, 0\n",
    "        pbar = tqdm(train_loader, desc=f'Training {epoch}/{num_epochs}') \\\n",
    "            if verbose else train_loader\n",
    "\n",
    "        for i, (X_batch, y_batch) in enumerate(pbar, 1):\n",
    "            X_batch = X_batch.to(device)\n",
    "            y_batch = y_batch.to(device)\n",
    "\n",
    "            optimizer.zero_grad()\n",
    "            predictions = model(X_batch)\n",
    "            loss = criterion(predictions, y_batch)\n",
    "            loss.backward()\n",
    "            optimizer.step()\n",
    "\n",
    "            with torch.no_grad():\n",
    "                metric_value = metric(predictions, y_batch)\n",
    "                if type(metric_value) == torch.Tensor:\n",
    "                    metric_value = metric_value.item()\n",
    "                running_loss += loss.item() * X_batch.shape[0]\n",
    "                running_metric += metric_value * X_batch.shape[0]\n",
    "\n",
    "            if verbose and i % 100 == 0:\n",
    "                pbar.set_postfix({'loss': loss.item(), 'accuracy': metric_value})\n",
    "\n",
    "        if scheduler is not None:\n",
    "            scheduler.step()\n",
    "        \n",
    "        train_losses += [running_loss / len(train_loader.dataset)]\n",
    "        train_metrics += [running_metric / len(train_loader.dataset)]\n",
    "        \n",
    "\n",
    "        model.eval()\n",
    "        running_loss, running_metric = 0, 0\n",
    "        pbar = tqdm(val_loader, desc=f'Validating {epoch}/{num_epochs}') \\\n",
    "            if verbose else val_loader\n",
    "\n",
    "        for i, (X_batch, y_batch) in enumerate(pbar, 1):\n",
    "            with torch.no_grad():\n",
    "                X_batch = X_batch.to(device)\n",
    "                y_batch = y_batch.to(device)\n",
    "\n",
    "                predictions = model(X_batch)\n",
    "                loss = criterion(predictions, y_batch)\n",
    "\n",
    "                metric_value = metric(predictions, y_batch)\n",
    "                if type(metric_value) == torch.Tensor:\n",
    "                    metric_value = metric_value.item()\n",
    "                running_loss += loss.item() * X_batch.shape[0]\n",
    "                running_metric += metric_value * X_batch.shape[0]\n",
    "\n",
    "            if verbose and i % 100 == 0:\n",
    "                pbar.set_postfix({'loss': loss.item(), 'accuracy': metric_value})\n",
    "\n",
    "        val_losses += [running_loss / len(val_loader.dataset)]\n",
    "        val_metrics += [running_metric / len(val_loader.dataset)]\n",
    "\n",
    "        if verbose:\n",
    "            plot_losses(train_losses, train_metrics, val_losses, val_metrics)\n",
    "    \n",
    "    if verbose:\n",
    "        print(f'Validation accuracy: {val_metrics[-1]:.3f}')\n",
    "\n",
    "    return train_metrics[-1], val_metrics[-1]"
   ]
  },
  {
   "cell_type": "code",
   "execution_count": 66,
   "id": "7f31c8e9",
   "metadata": {},
   "outputs": [
    {
     "data": {
      "image/png": "[encoded data removed]",
      "text/plain": [
       "<Figure size 1500x500 with 2 Axes>"
      ]
     },
     "metadata": {},
     "output_type": "display_data"
    },
    {
     "name": "stdout",
     "output_type": "stream",
     "text": [
      "Validation accuracy: 0.972\n"
     ]
    },
    {
     "data": {
      "text/plain": [
       "(0.9719403616947314, 0.9723983193675972)"
      ]
     },
     "execution_count": 66,
     "metadata": {},
     "output_type": "execute_result"
    }
   ],
   "source": [
    "device = torch.device('cuda:0' if torch.cuda.is_available() else 'cpu')\n",
    "\n",
    "class MLP_5linear(nn.Module):\n",
    "    def __init__(self, in_features_num, middle_features_num, class_num, dropout_p):\n",
    "        super().__init__()\n",
    "        self.model = nn.Sequential(\n",
    "            nn.Linear(in_features=in_features_num, out_features=middle_features_num),\n",
    "            nn.Dropout(p=dropout_p),\n",
    "            nn.ReLU(),\n",
    "            nn.Linear(in_features=middle_features_num, out_features=middle_features_num),\n",
    "            nn.Dropout(p=dropout_p),\n",
    "            nn.ReLU(),\n",
    "            nn.Linear(in_features=middle_features_num, out_features=middle_features_num),\n",
    "            nn.Dropout(p=dropout_p),\n",
    "            nn.ReLU(),\n",
    "            nn.Linear(in_features=middle_features_num, out_features=middle_features_num),\n",
    "            nn.Dropout(p=dropout_p),\n",
    "            nn.ReLU(),\n",
    "            nn.Linear(in_features=middle_features_num, out_features=class_num)\n",
    "        )\n",
    "    \n",
    "    def forward(self, x):\n",
    "        return self.model(x)\n",
    "\n",
    "\n",
    "train_set = TensorDataset(torch.from_numpy(X_train.values).to(torch.float32), torch.from_numpy(y_train.values))\n",
    "val_set = TensorDataset(torch.from_numpy(X_val.values).to(torch.float32), torch.from_numpy(y_val.values))\n",
    "\n",
    "train_loader = DataLoader(train_set, batch_size=512, shuffle=True, num_workers=2, pin_memory=True)\n",
    "val_loader = DataLoader(val_set, batch_size=512, shuffle=False, num_workers=2, pin_memory=True)\n",
    "\n",
    "num_epochs = 40\n",
    "in_features_num = X_train.shape[1]\n",
    "middle_features_num = int(X_train.shape[1] * 1)\n",
    "number_of_classes = 2\n",
    "dropout_p = 0.1\n",
    "model_5linear = MLP_5linear(in_features_num, middle_features_num, number_of_classes, dropout_p).to(device)\n",
    "optimizer = torch.optim.SGD(model_5linear.parameters(), lr=5e-2, momentum=0.9, weight_decay=1e-4)\n",
    "scheduler = torch.optim.lr_scheduler.ExponentialLR(optimizer, gamma=0.9)\n",
    "criterion = nn.CrossEntropyLoss().to(device)\n",
    "metric = lambda y_pred, y_true: (y_true == y_pred.argmax(dim=1)).sum() / y_true.shape[0]\n",
    "\n",
    "train_and_validate(model_5linear, optimizer, criterion, metric, train_loader, val_loader,\n",
    "                       num_epochs, scheduler)\n"
   ]
  },
  {
   "cell_type": "markdown",
   "id": "bce5fb22",
   "metadata": {},
   "source": [
    "Обучим модель на полной обучающей выборке (объединим train и val выборки). "
   ]
  },
  {
   "cell_type": "code",
   "execution_count": 68,
   "id": "5988f10b",
   "metadata": {},
   "outputs": [
    {
     "data": {
      "text/plain": [
       "(0.9726352152449095, 0.9732661636213041)"
      ]
     },
     "execution_count": 68,
     "metadata": {},
     "output_type": "execute_result"
    }
   ],
   "source": [
    "train_set = TensorDataset(torch.from_numpy(np.concatenate((X_train.values, X_val.values))).to(torch.float32),\n",
    "                          torch.from_numpy(np.concatenate((y_train.values, y_val.values))))\n",
    "val_set = TensorDataset(torch.from_numpy(X_val.values).to(torch.float32), torch.from_numpy(y_val.values))\n",
    "\n",
    "train_loader = DataLoader(train_set, batch_size=512, shuffle=True, num_workers=2, pin_memory=True)\n",
    "val_loader = DataLoader(val_set, batch_size=512, shuffle=False, num_workers=2, pin_memory=True)\n",
    "\n",
    "num_epochs = 40\n",
    "in_features_num = X_train.shape[1]\n",
    "middle_features_num = int(X_train.shape[1] * 1)\n",
    "number_of_classes = 2\n",
    "dropout_p = 0.1\n",
    "model_5linear = MLP_5linear(in_features_num, middle_features_num, number_of_classes, dropout_p).to(device)\n",
    "optimizer = torch.optim.SGD(model_5linear.parameters(), lr=5e-2, momentum=0.9, weight_decay=1e-4)\n",
    "scheduler = torch.optim.lr_scheduler.ExponentialLR(optimizer, gamma=0.9)\n",
    "criterion = nn.CrossEntropyLoss().to(device)\n",
    "metric = lambda y_pred, y_true: (y_true == y_pred.argmax(dim=1)).sum() / y_true.shape[0]\n",
    "\n",
    "train_and_validate(model_5linear, optimizer, criterion, metric, train_loader, val_loader,\n",
    "                       num_epochs, scheduler, verbose=False)"
   ]
  },
  {
   "cell_type": "code",
   "execution_count": 69,
   "id": "1567488b",
   "metadata": {},
   "outputs": [],
   "source": [
    "torch.save({\n",
    "    'model_state': model_5linear.state_dict(),\n",
    "    'optimizer_state': optimizer.state_dict(),\n",
    "    'scheduler_state': scheduler.state_dict()\n",
    "}, 'linLay5_hidLayFeatNumEqInFeatNum_dropout01_bsize512_epoch40_sgd_mom09_lr5e2_wd1e4_explr09.pt')"
   ]
  },
  {
   "cell_type": "markdown",
   "id": "0e89c3a1",
   "metadata": {},
   "source": [
    "## Метрики качества на тестовой выборке"
   ]
  },
  {
   "cell_type": "code",
   "execution_count": 81,
   "id": "507680dd",
   "metadata": {},
   "outputs": [],
   "source": [
    "def calc_scores(y_true, pred, pred_proba):\n",
    "    print('roc_auc_score=', roc_auc_score(y_true, pred_proba))\n",
    "    precision, recall, _ = precision_recall_curve(y_true, pred_proba)\n",
    "    print('precision_recall_auc_score', auc(recall, precision))\n",
    "    print(classification_report(y_true, pred ,digits=3))"
   ]
  },
  {
   "cell_type": "code",
   "execution_count": 25,
   "id": "99315a9b",
   "metadata": {},
   "outputs": [],
   "source": [
    "X_test = prep_data_pipe.transform(X_test)"
   ]
  },
  {
   "cell_type": "markdown",
   "id": "440b960a",
   "metadata": {},
   "source": [
    "Предсказание модели"
   ]
  },
  {
   "cell_type": "code",
   "execution_count": 82,
   "id": "18eec704",
   "metadata": {},
   "outputs": [
    {
     "name": "stdout",
     "output_type": "stream",
     "text": [
      "roc_auc_score= 0.8964102550494374\n",
      "precision_recall_auc_score 0.4938390975694915\n",
      "              precision    recall  f1-score   support\n",
      "\n",
      "           0      0.974     0.997     0.986    113975\n",
      "           1      0.774     0.276     0.407      4133\n",
      "\n",
      "    accuracy                          0.972    118108\n",
      "   macro avg      0.874     0.637     0.696    118108\n",
      "weighted avg      0.967     0.972     0.965    118108\n",
      "\n"
     ]
    }
   ],
   "source": [
    "with torch.no_grad():\n",
    "    model_5linear.eval()\n",
    "    pred_test = model_5linear(torch.from_numpy(X_test.values).to(torch.float32))\n",
    "\n",
    "softmax = nn.Softmax(dim=1)\n",
    "y_pred_softmax = softmax(pred_test)\n",
    "y_pred = y_pred_softmax.argmax(dim=1)\n",
    "calc_scores(y_test.values, y_pred.numpy(), y_pred_softmax.numpy()[:,1])\n"
   ]
  },
  {
   "cell_type": "markdown",
   "id": "9985cf18",
   "metadata": {},
   "source": [
    "Константный прогноз. Для всех объектов предсказываем класс \"0\""
   ]
  },
  {
   "cell_type": "code",
   "execution_count": 83,
   "id": "4544d655",
   "metadata": {},
   "outputs": [
    {
     "name": "stdout",
     "output_type": "stream",
     "text": [
      "roc_auc_score= 0.5\n",
      "precision_recall_auc_score 0.517496697937481\n",
      "              precision    recall  f1-score   support\n",
      "\n",
      "           0      0.965     1.000     0.982    113975\n",
      "           1      0.000     0.000     0.000      4133\n",
      "\n",
      "    accuracy                          0.965    118108\n",
      "   macro avg      0.483     0.500     0.491    118108\n",
      "weighted avg      0.931     0.965     0.948    118108\n",
      "\n"
     ]
    }
   ],
   "source": [
    "y_const = np.zeros(y_test.size)\n",
    "calc_scores(y_test.values, y_const, y_const)"
   ]
  },
  {
   "cell_type": "code",
   "execution_count": null,
   "id": "07554950",
   "metadata": {},
   "outputs": [],
   "source": []
  }
 ],
 "metadata": {
  "kernelspec": {
   "display_name": "Python 3 (ipykernel)",
   "language": "python",
   "name": "python3"
  },
  "language_info": {
   "codemirror_mode": {
    "name": "ipython",
    "version": 3
   },
   "file_extension": ".py",
   "mimetype": "text/x-python",
   "name": "python",
   "nbconvert_exporter": "python",
   "pygments_lexer": "ipython3",
   "version": "3.10.5"
  }
 },
 "nbformat": 4,
 "nbformat_minor": 5
}
