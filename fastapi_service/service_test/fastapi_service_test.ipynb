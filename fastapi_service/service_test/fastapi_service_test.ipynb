{
 "cells": [
  {
   "cell_type": "code",
   "execution_count": 1,
   "id": "bbb482b2",
   "metadata": {},
   "outputs": [],
   "source": [
    "import pandas as pd\n",
    "import numpy as np\n",
    "from sklearn.model_selection import train_test_split\n",
    "\n",
    "import requests\n",
    "import json\n",
    "\n",
    "random_state = 42"
   ]
  },
  {
   "cell_type": "code",
   "execution_count": 2,
   "id": "75e121b5",
   "metadata": {},
   "outputs": [],
   "source": [
    "raw_data = pd.merge(pd.read_csv('../train_transaction.csv'), pd.read_csv('../train_identity.csv'),\n",
    "                    left_on='TransactionID', right_on='TransactionID', how='left')\n"
   ]
  },
  {
   "cell_type": "markdown",
   "id": "fa774cee",
   "metadata": {},
   "source": [
    "Подготовим данные для запроса, по которому выполняется обучение модели."
   ]
  },
  {
   "cell_type": "code",
   "execution_count": 3,
   "id": "657062a4",
   "metadata": {},
   "outputs": [],
   "source": [
    "df_req_train = raw_data.sample(1000, random_state=random_state)\n",
    "df_req_train.reset_index(drop=True, inplace=True)"
   ]
  },
  {
   "cell_type": "markdown",
   "id": "f247603f",
   "metadata": {},
   "source": [
    "Из тестового датасета возьмем 50 мошеннических и 50 немошеннических транзакций для тестирования запросов, по которым выплняется предсказание."
   ]
  },
  {
   "cell_type": "code",
   "execution_count": 4,
   "id": "9beac725",
   "metadata": {},
   "outputs": [],
   "source": [
    "X_train, X_test = train_test_split(raw_data, test_size=0.2, random_state=random_state)\n",
    "\n",
    "X_test.reset_index(drop=True, inplace=True)\n",
    "y_test = X_test['isFraud']\n",
    "\n",
    "del raw_data\n",
    "del X_train"
   ]
  },
  {
   "cell_type": "code",
   "execution_count": 5,
   "id": "da481bf0",
   "metadata": {},
   "outputs": [],
   "source": [
    "df_req_fraud = X_test[y_test==1].sample(50, random_state=random_state)\n",
    "df_req_fraud.reset_index(drop=True, inplace=True)\n",
    "\n",
    "df_req_not_fraud = X_test[y_test==0].sample(50, random_state=random_state)\n",
    "df_req_not_fraud.reset_index(drop=True, inplace=True)"
   ]
  },
  {
   "cell_type": "code",
   "execution_count": 6,
   "id": "b1f09b2a",
   "metadata": {},
   "outputs": [],
   "source": [
    "del X_test"
   ]
  },
  {
   "cell_type": "markdown",
   "id": "7dc42d2a",
   "metadata": {},
   "source": [
    "### Запрос для одного объекта"
   ]
  },
  {
   "cell_type": "markdown",
   "id": "dacf97a5",
   "metadata": {},
   "source": [
    "Для каждой транзакции выполним отдельный запрос"
   ]
  },
  {
   "cell_type": "code",
   "execution_count": 22,
   "id": "4d9972b9",
   "metadata": {},
   "outputs": [
    {
     "name": "stdout",
     "output_type": "stream",
     "text": [
      "CPU times: total: 234 ms\n",
      "Wall time: 3.83 s\n"
     ]
    }
   ],
   "source": [
    "%%time\n",
    "url = 'http://127.0.0.1:8000/predict_one_transaction'\n",
    "api_single_res = []\n",
    "for i in range(df_req_fraud.shape[0]):\n",
    "    response = requests.post(url, data=json.dumps(df_req_fraud.loc[i].to_dict()), headers={\"Content-Type\": \"application/json\"})\n",
    "    api_single_res.append(response.json())"
   ]
  },
  {
   "cell_type": "markdown",
   "id": "5bf0127f",
   "metadata": {},
   "source": [
    "Результаты запросов: 0 - транзакция не мошенническая, 1 - транзакция мошенническая"
   ]
  },
  {
   "cell_type": "code",
   "execution_count": 23,
   "id": "67cf138c",
   "metadata": {},
   "outputs": [
    {
     "data": {
      "text/plain": [
       "21.0"
      ]
     },
     "execution_count": 23,
     "metadata": {},
     "output_type": "execute_result"
    }
   ],
   "source": [
    "sum(api_single_res)"
   ]
  },
  {
   "cell_type": "code",
   "execution_count": 24,
   "id": "4da7e37e",
   "metadata": {},
   "outputs": [
    {
     "name": "stdout",
     "output_type": "stream",
     "text": [
      "[0.0, 0.0, 1.0, 0.0, 0.0, 0.0, 1.0, 0.0, 1.0, 1.0, 0.0, 0.0, 0.0, 1.0, 1.0, 0.0, 0.0, 1.0, 1.0, 0.0, 1.0, 1.0, 0.0, 0.0, 0.0, 1.0, 1.0, 1.0, 0.0, 0.0, 1.0, 0.0, 0.0, 1.0, 0.0, 0.0, 1.0, 0.0, 0.0, 0.0, 0.0, 0.0, 1.0, 1.0, 1.0, 0.0, 1.0, 0.0, 1.0, 0.0]\n"
     ]
    }
   ],
   "source": [
    "print(api_single_res)"
   ]
  },
  {
   "cell_type": "markdown",
   "id": "c2cfbd38",
   "metadata": {},
   "source": [
    "### Запрос для списка транзакций"
   ]
  },
  {
   "cell_type": "code",
   "execution_count": 37,
   "id": "87474b2b",
   "metadata": {},
   "outputs": [
    {
     "name": "stdout",
     "output_type": "stream",
     "text": [
      "200\n"
     ]
    }
   ],
   "source": [
    "url_items = 'http://127.0.0.1:8000/predict_transactions'\n",
    "lst = []\n",
    "for i in range(df_req_fraud.shape[0]):\n",
    "    lst.append(df_req_fraud.loc[i].to_dict())\n",
    "response_items = requests.post(url_items, data=json.dumps(lst), headers={\"Content-Type\": \"application/json\"})\n",
    "print(response_items.status_code)"
   ]
  },
  {
   "cell_type": "code",
   "execution_count": 38,
   "id": "ae4d8a72",
   "metadata": {},
   "outputs": [
    {
     "data": {
      "text/plain": [
       "13.0"
      ]
     },
     "execution_count": 38,
     "metadata": {},
     "output_type": "execute_result"
    }
   ],
   "source": [
    "sum(response_items.json())"
   ]
  },
  {
   "cell_type": "code",
   "execution_count": 39,
   "id": "38251c91",
   "metadata": {},
   "outputs": [
    {
     "name": "stdout",
     "output_type": "stream",
     "text": [
      "[0.0, 0.0, 0.0, 0.0, 0.0, 0.0, 0.0, 0.0, 1.0, 0.0, 0.0, 0.0, 0.0, 1.0, 1.0, 0.0, 0.0, 1.0, 0.0, 0.0, 1.0, 1.0, 0.0, 0.0, 0.0, 1.0, 0.0, 1.0, 0.0, 0.0, 0.0, 0.0, 0.0, 1.0, 0.0, 0.0, 1.0, 0.0, 0.0, 0.0, 0.0, 0.0, 1.0, 0.0, 1.0, 0.0, 0.0, 0.0, 1.0, 0.0]\n"
     ]
    }
   ],
   "source": [
    "print(response_items.json())"
   ]
  },
  {
   "cell_type": "markdown",
   "id": "8a5cbdb5",
   "metadata": {},
   "source": [
    "### Запрос для обучения модели"
   ]
  },
  {
   "cell_type": "code",
   "execution_count": 36,
   "id": "1e4615df",
   "metadata": {},
   "outputs": [
    {
     "data": {
      "text/plain": [
       "True"
      ]
     },
     "execution_count": 36,
     "metadata": {},
     "output_type": "execute_result"
    }
   ],
   "source": [
    "url_train = 'http://127.0.0.1:8000/train_full_data'\n",
    "response_train = requests.post(url_train, data=json.dumps(df_req_train.to_dict(orient='list')), headers={\"Content-Type\": \"application/json\"})\n",
    "response_train.json()"
   ]
  },
  {
   "cell_type": "markdown",
   "id": "aa5105f9",
   "metadata": {},
   "source": [
    "### Добавить транзакцию в БД"
   ]
  },
  {
   "cell_type": "code",
   "execution_count": 40,
   "id": "5323f8b5",
   "metadata": {},
   "outputs": [
    {
     "name": "stdout",
     "output_type": "stream",
     "text": [
      "{'id': 3457624, 'status': 'already in db'}\n",
      "{'id': 3370779, 'status': 'already in db'}\n",
      "{'id': 3205104, 'status': 'already in db'}\n",
      "{'id': 3284271, 'status': 'already in db'}\n",
      "{'id': 3292889, 'status': 'already in db'}\n",
      "{'id': 3416674, 'status': 'already in db'}\n",
      "{'id': 3257408, 'status': 'already in db'}\n",
      "{'id': 3222300, 'status': 'already in db'}\n",
      "{'id': 3382253, 'status': 'already in db'}\n",
      "{'id': 3206312, 'status': 'already in db'}\n"
     ]
    }
   ],
   "source": [
    "url_add_trn = 'http://127.0.0.1:8000/add_transaction'\n",
    "for i in range(0, 1000, 100):\n",
    "    response = requests.post(url_add_trn, data=json.dumps(df_req_train.loc[i].to_dict()), headers={\"Content-Type\": \"application/json\"})\n",
    "    print(response.json())"
   ]
  },
  {
   "cell_type": "markdown",
   "id": "de97aced",
   "metadata": {},
   "source": [
    "### Запрос для тестирования панели 'Total Exception' дашборда 'FastAPI Service' в Grafana.\n",
    "По этому запросу сервис ничего не делает. Только бросает исключение"
   ]
  },
  {
   "cell_type": "code",
   "execution_count": 43,
   "id": "3395a5ad",
   "metadata": {},
   "outputs": [
    {
     "data": {
      "text/plain": [
       "500"
      ]
     },
     "execution_count": 43,
     "metadata": {},
     "output_type": "execute_result"
    }
   ],
   "source": [
    "url_raise_exception = 'http://127.0.0.1:8000/raise_exception'\n",
    "for i in range(50):\n",
    "    resp_raise_exception = requests.get(url_raise_exception)\n",
    "resp_raise_exception.status_code"
   ]
  },
  {
   "cell_type": "markdown",
   "id": "fcf9da8a",
   "metadata": {},
   "source": [
    "### Grafana"
   ]
  },
  {
   "cell_type": "markdown",
   "id": "21d68f3c",
   "metadata": {},
   "source": [
    "Посмотрим на дашборд 'FastAPI Service'\n",
    "\n",
    "Grafana http://localhost:3000/"
   ]
  },
  {
   "cell_type": "markdown",
   "id": "f05c2999",
   "metadata": {},
   "source": [
    "<center>\n",
    "<img src=\"grafana_dashboard.JPG\"> \n",
    "</center>"
   ]
  },
  {
   "cell_type": "code",
   "execution_count": null,
   "id": "71cbdd53",
   "metadata": {},
   "outputs": [],
   "source": []
  }
 ],
 "metadata": {
  "kernelspec": {
   "display_name": "Python 3 (ipykernel)",
   "language": "python",
   "name": "python3"
  },
  "language_info": {
   "codemirror_mode": {
    "name": "ipython",
    "version": 3
   },
   "file_extension": ".py",
   "mimetype": "text/x-python",
   "name": "python",
   "nbconvert_exporter": "python",
   "pygments_lexer": "ipython3",
   "version": "3.10.5"
  }
 },
 "nbformat": 4,
 "nbformat_minor": 5
}
