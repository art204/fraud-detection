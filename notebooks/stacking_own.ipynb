{
 "cells": [
  {
   "cell_type": "code",
   "execution_count": 3,
   "id": "bbb482b2",
   "metadata": {},
   "outputs": [],
   "source": [
    "import pandas as pd\n",
    "import numpy as np\n",
    "from sklearn.model_selection import train_test_split\n",
    "from sklearn import preprocessing\n",
    "from sklearn.linear_model import LogisticRegression\n",
    "from sklearn.impute import SimpleImputer\n",
    "from sklearn.pipeline import Pipeline\n",
    "from sklearn.model_selection import cross_validate, cross_val_score\n",
    "from sklearn.model_selection import GridSearchCV, StratifiedKFold\n",
    "from sklearn.base import TransformerMixin, BaseEstimator\n",
    "\n",
    "import matplotlib.pyplot as plt\n",
    "from matplotlib import ticker\n",
    "# unused but required import for doing 3d projections with matplotlib < 3.2\n",
    "import mpl_toolkits.mplot3d  # noqa: F401\n",
    "from sklearn import manifold\n",
    "\n",
    "from category_encoders.target_encoder import TargetEncoder\n",
    "from imblearn.under_sampling import NearMiss\n",
    "from sklearn.metrics import f1_score\n",
    "\n",
    "from sklearn.metrics import precision_score\n",
    "from sklearn.metrics import recall_score\n",
    "\n",
    "from sklearn.feature_selection import SelectFromModel\n",
    "\n",
    "from lightgbm import LGBMClassifier\n",
    "from catboost import CatBoostClassifier\n",
    "from xgboost import XGBClassifier\n",
    "from sklearn.ensemble import RandomForestClassifier, GradientBoostingClassifier, StackingClassifier\n",
    "from sklearn.linear_model import LogisticRegression\n",
    "\n",
    "from sklearn.metrics import f1_score, precision_score, recall_score, accuracy_score, roc_auc_score\n",
    "from sklearn.metrics import confusion_matrix, RocCurveDisplay, PrecisionRecallDisplay, classification_report\n",
    "\n",
    "import optuna\n",
    "from optuna.samplers import TPESampler\n",
    "from optuna.pruners import HyperbandPruner\n",
    "\n",
    "import pickle\n",
    "random_state = 42\n",
    "\n",
    "import warnings\n",
    "warnings.filterwarnings(\"ignore\")"
   ]
  },
  {
   "cell_type": "code",
   "execution_count": 4,
   "id": "75e121b5",
   "metadata": {},
   "outputs": [],
   "source": [
    "raw_data = pd.merge(pd.read_csv('train_transaction.csv'), pd.read_csv('train_identity.csv'),\n",
    "                    left_on='TransactionID', right_on='TransactionID', how='left')"
   ]
  },
  {
   "cell_type": "code",
   "execution_count": 5,
   "id": "53531efe",
   "metadata": {},
   "outputs": [],
   "source": [
    "pd.set_option('display.max_columns', None)"
   ]
  },
  {
   "cell_type": "markdown",
   "id": "a4fababd",
   "metadata": {},
   "source": [
    "### Разделим данные на train и test"
   ]
  },
  {
   "cell_type": "code",
   "execution_count": 6,
   "id": "d26a2e54",
   "metadata": {},
   "outputs": [],
   "source": [
    "X_train, X_test = train_test_split(raw_data, test_size=0.2, random_state=random_state)\n",
    "X_train.reset_index(drop=True, inplace=True)\n",
    "y_train = X_train['isFraud']\n",
    "X_train.drop(columns=['isFraud', 'TransactionID'], inplace=True)\n",
    "\n",
    "X_test.reset_index(drop=True, inplace=True)\n",
    "y_test = X_test['isFraud']\n",
    "X_test.drop(columns=['isFraud', 'TransactionID'], inplace=True)"
   ]
  },
  {
   "cell_type": "code",
   "execution_count": 7,
   "id": "7f541cde",
   "metadata": {},
   "outputs": [],
   "source": [
    "del raw_data"
   ]
  },
  {
   "cell_type": "markdown",
   "id": "eacb55cb",
   "metadata": {},
   "source": [
    "### Колонки с большим количеством пропусков"
   ]
  },
  {
   "cell_type": "markdown",
   "id": "d20a6e60",
   "metadata": {},
   "source": [
    "NanFeatureSelector удаляет колонки, в которых доля пропусков больше max_nan_rate (в нашем случае зададим max_nan_rate = 85%)"
   ]
  },
  {
   "cell_type": "code",
   "execution_count": 8,
   "id": "e2967ee6",
   "metadata": {},
   "outputs": [],
   "source": [
    "class NanFeatureSelector(TransformerMixin, BaseEstimator):\n",
    "\n",
    "    def __init__(self, max_nan_rate):\n",
    "        self.cols_to_remove = []\n",
    "        self.max_nan_rate = max_nan_rate\n",
    "\n",
    "    def fit(self, X, y=None):\n",
    "        nan_stat = self.get_share_of_NaN(X)\n",
    "        for i in range(len(nan_stat)):\n",
    "            column = nan_stat.loc[i]\n",
    "            if(column['Share_of_NaN'] > self.max_nan_rate):\n",
    "                self.cols_to_remove.append(column['Name'])\n",
    "        return self\n",
    "\n",
    "    def transform(self, X):\n",
    "        return X.drop(columns=self.cols_to_remove)\n",
    "    \n",
    "    def get_share_of_NaN(self, df):\n",
    "        '''\n",
    "        Рассчитывает количество пропусков в каждой колонке, а также долю пропусков в каждой колонке\n",
    "        Параметры:\n",
    "        df - датафрейм\n",
    "        Возвращает датафрейм, содержащий информацию о пропусках в каждой колонке датафрейма df\n",
    "        '''\n",
    "        result = pd.DataFrame(columns=['Name', 'Number_of_NaN', 'Share_of_NaN'])\n",
    "        colcount = df.count()\n",
    "        length = len(df)\n",
    "        for col_name in colcount.keys():\n",
    "            result.loc[len(result)] = [col_name, length-colcount[col_name], (length-colcount[col_name])/length]\n",
    "        return result"
   ]
  },
  {
   "cell_type": "markdown",
   "id": "f84e9bf1",
   "metadata": {},
   "source": [
    "### Колонки с большой корреляцией\n",
    "\n",
    "CorrFeatureSelector удаляет колонки, у которых корреляция больше max_corr (в нашем случае зададим max_corr = 0.9)\n"
   ]
  },
  {
   "cell_type": "code",
   "execution_count": 9,
   "id": "1418e15a",
   "metadata": {},
   "outputs": [],
   "source": [
    "class CorrFeatureSelector(TransformerMixin, BaseEstimator):\n",
    "\n",
    "    def __init__(self, max_corr):\n",
    "        self.cols_to_remove = set()\n",
    "        self.max_corr = max_corr\n",
    "\n",
    "    def fit(self, X, y=None):\n",
    "        corrs = X.corr()\n",
    "        cols = corrs.columns\n",
    "        for i in range(len(cols)):\n",
    "            col_name_1 = cols[i]\n",
    "            if col_name_1 in {'TransactionID', 'isFraud', 'TransactionDT'} or col_name_1 in self.cols_to_remove:\n",
    "                continue\n",
    "            for j in range(i+1, len(cols)):\n",
    "                col_name_2 = cols[j]\n",
    "                if abs(corrs[col_name_1][col_name_2]) > self.max_corr:\n",
    "                    self.cols_to_remove.add(col_name_2)\n",
    "        return self\n",
    "\n",
    "    def transform(self, X):\n",
    "        return X.drop(columns=self.cols_to_remove)"
   ]
  },
  {
   "cell_type": "markdown",
   "id": "71aa279b",
   "metadata": {},
   "source": [
    "### Заполнение пропусков"
   ]
  },
  {
   "cell_type": "code",
   "execution_count": 10,
   "id": "d497b1e8",
   "metadata": {},
   "outputs": [],
   "source": [
    "class CustomImputer(TransformerMixin, BaseEstimator):\n",
    "    \n",
    "    def __init__(self, strategy='most_frequent', fill_value=None):\n",
    "        self.__imputer = SimpleImputer(strategy=strategy, fill_value=fill_value)\n",
    "        self.strategy = strategy\n",
    "        self.fill_value = fill_value\n",
    "        \n",
    "    def fit(self, X, y=None):\n",
    "        self.__imputer.fit(X)\n",
    "        return self\n",
    "    def transform(self, X, y=None):\n",
    "        X = X.copy()\n",
    "        X[X.columns] = self.__imputer.transform(X[X.columns])\n",
    "        \n",
    "        return X"
   ]
  },
  {
   "cell_type": "markdown",
   "id": "29be98ad",
   "metadata": {},
   "source": [
    "### Кодирование категориальных признаков\n",
    "Признаки, у которых количество уникальных значений больше, чем ohe_limit, закодируем с помощью TargetEncoder. Признаки, у которых количество уникальных значений меньше либо равно ohe_limit, закодируем с помощью pd.get_dummies (One-Hot Encoding).\n",
    "В нашем случае зададим ohe_limit=10"
   ]
  },
  {
   "cell_type": "code",
   "execution_count": 11,
   "id": "90b6e90e",
   "metadata": {},
   "outputs": [],
   "source": [
    "class ObjectEncoder:\n",
    "    def __init__(self, ohe_limit, obj_cols):\n",
    "        self.__ohe_limit = ohe_limit\n",
    "        self.__obj_cols = obj_cols\n",
    "        self.__encoded_columns = None\n",
    "        self.__ohe_cols = []\n",
    "        self.__targ_enc_cols = []\n",
    "        self.__targ_enc = None\n",
    "        \n",
    "    \n",
    "    def divide_columns(self, df):\n",
    "        for col in self.__obj_cols:\n",
    "            if col in df.columns:\n",
    "                if col in ['P_emaildomain', 'R_emaildomain'] or df[col].unique().shape[0] <= self.__ohe_limit:\n",
    "                    self.__ohe_cols.append(col)\n",
    "                else:\n",
    "                    self.__targ_enc_cols.append(col)\n",
    "                \n",
    "    \n",
    "    def encode_ohe_cols(self, df):\n",
    "        # use OHE for columns from self.__ohe_cols only\n",
    "        if self.__encoded_columns is not None:\n",
    "            df = pd.get_dummies(df, drop_first=False, columns=self.__ohe_cols)\n",
    "\n",
    "            removed_cols = []\n",
    "            for col in df.columns:\n",
    "                if col not in self.__encoded_columns:\n",
    "                    removed_cols.append(col)\n",
    "            df.drop(columns=removed_cols, inplace=True)\n",
    "\n",
    "            for i in range(len(self.__encoded_columns)):\n",
    "                col = self.__encoded_columns[i]\n",
    "                if col not in df:\n",
    "                    df.insert(i, col, 0)\n",
    "\n",
    "        else:\n",
    "            df = pd.get_dummies(df, drop_first=True, columns=self.__ohe_cols)\n",
    "            self.__encoded_columns = df.columns\n",
    "            \n",
    "        return df\n",
    "\n",
    "    def fit(self, X, y):\n",
    "        self.divide_columns(X)\n",
    "        self.__targ_enc = TargetEncoder(cols=self.__targ_enc_cols)\n",
    "        self.__targ_enc.fit(X, y)\n",
    "    \n",
    "    def transform(self, X):\n",
    "        X = self.__targ_enc.transform(X)\n",
    "        return self.encode_ohe_cols(X)\n",
    "    \n",
    "    def fit_transform(self, X, y):\n",
    "        self.divide_columns(X)\n",
    "        self.__targ_enc = TargetEncoder(cols=self.__targ_enc_cols)\n",
    "        X = self.__targ_enc.fit_transform(X, y)\n",
    "        return self.encode_ohe_cols(X)"
   ]
  },
  {
   "cell_type": "markdown",
   "id": "e50ccbe5",
   "metadata": {},
   "source": [
    "### Масштабирование числовых признаков"
   ]
  },
  {
   "cell_type": "code",
   "execution_count": 12,
   "id": "06e61ff9",
   "metadata": {},
   "outputs": [],
   "source": [
    "class CustomScaler(TransformerMixin, BaseEstimator):\n",
    "    \n",
    "    def __init__(self, cols, scaler=None):\n",
    "        self.cols = cols\n",
    "        self.scaler = scaler or preprocessing.MinMaxScaler()\n",
    "        \n",
    "    def fit(self, X, y=None):\n",
    "        self.cols = list(set(self.cols).intersection(set(X.columns)))\n",
    "        num_cols = X[self.cols]\n",
    "        self.scaler.fit(num_cols)\n",
    "        return self\n",
    "    def transform(self, X, y=None):\n",
    "        X_res = X.copy()\n",
    "        X_res[self.cols] = self.scaler.transform(X_res[self.cols])\n",
    "        return X_res"
   ]
  },
  {
   "cell_type": "markdown",
   "id": "1779500e",
   "metadata": {},
   "source": [
    "### Категориальные признаки"
   ]
  },
  {
   "cell_type": "code",
   "execution_count": 13,
   "id": "33a9d695",
   "metadata": {},
   "outputs": [],
   "source": [
    "cat_cols = ['ProductCD', 'card1', 'card2', 'card3', 'card4', 'card5', 'card6',\n",
    "            'addr1', 'addr2', 'P_emaildomain', 'R_emaildomain',\n",
    "            'M1', 'M2', 'M3', 'M4', 'M5', 'M6', 'M7', 'M8', 'M9',\n",
    "            'DeviceType', 'DeviceInfo', 'id_12', 'id_13', 'id_14', 'id_15', 'id_16', 'id_17', 'id_18', 'id_19', 'id_20'\n",
    "            'id_21', 'id_22', 'id_23', 'id_24', 'id_25', 'id_26', 'id_27', 'id_28', 'id_29', 'id_30', 'id_31', 'id_32'\n",
    "            'id_33', 'id_34', 'id_35', 'id_36', 'id_37', 'id_38']"
   ]
  },
  {
   "cell_type": "markdown",
   "id": "16ccda1d",
   "metadata": {},
   "source": [
    "### Числовые признаки"
   ]
  },
  {
   "cell_type": "code",
   "execution_count": 14,
   "id": "f085828f",
   "metadata": {},
   "outputs": [],
   "source": [
    "real_cols = list(X_train.columns)\n",
    "\n",
    "for col in cat_cols:\n",
    "    if col in real_cols:\n",
    "        real_cols.remove(col)"
   ]
  },
  {
   "cell_type": "markdown",
   "id": "f79fe973",
   "metadata": {},
   "source": [
    "### Пайплайн предобработки данных"
   ]
  },
  {
   "cell_type": "code",
   "execution_count": 15,
   "id": "f9c1638f",
   "metadata": {},
   "outputs": [],
   "source": [
    "# Пайплайн удаляет признаки, у которых более 85% пропусков, а также признаки, у которых корреляция больше 0.9,\n",
    "# заполняет пропуски, кодирует категориальные признаки, масштабирует числовые признаки\n",
    "prep_data_pipe = Pipeline([\n",
    "    ('nan_feature_selector_', NanFeatureSelector(0.85)),\n",
    "    ('corr_feature_selector_', CorrFeatureSelector(0.9)),\n",
    "    ('imputer_', CustomImputer(strategy='constant', fill_value=-999)),\n",
    "    ('encoder_', ObjectEncoder(10, cat_cols)),\n",
    "    ('scaler_', CustomScaler(real_cols, preprocessing.MinMaxScaler()))\n",
    "])"
   ]
  },
  {
   "cell_type": "code",
   "execution_count": 16,
   "id": "d55aa57e",
   "metadata": {},
   "outputs": [
    {
     "name": "stdout",
     "output_type": "stream",
     "text": [
      "CPU times: user 2min 24s, sys: 36.6 s, total: 3min\n",
      "Wall time: 3min\n"
     ]
    }
   ],
   "source": [
    "%%time\n",
    "X_train = prep_data_pipe.fit_transform(X_train, y_train)"
   ]
  },
  {
   "cell_type": "markdown",
   "id": "2dc205fb",
   "metadata": {},
   "source": [
    "## Бустинги с гиперпараметрами, подобранными с помощью optuna"
   ]
  },
  {
   "cell_type": "markdown",
   "id": "6bb1957c",
   "metadata": {},
   "source": [
    "### Функция для расчета ROC AUC по кросс-валидации"
   ]
  },
  {
   "cell_type": "code",
   "execution_count": 17,
   "id": "d4fc5290",
   "metadata": {},
   "outputs": [],
   "source": [
    "def cross_val_modelling(kfold, X_train, y_train, model):\n",
    "\n",
    "    skf = StratifiedKFold(n_splits=kfold, shuffle=True, random_state=42)\n",
    "    roc_aucs = []\n",
    "\n",
    "    for train_idx, valid_idx in skf.split(X_train, y_train):\n",
    "        trn_X = X_train.iloc[train_idx]\n",
    "        trn_y = y_train.iloc[train_idx]\n",
    "        val_X = X_train.iloc[valid_idx]\n",
    "        val_y = y_train.iloc[valid_idx]\n",
    "        \n",
    "        model.fit(trn_X, trn_y, verbose=False)\n",
    "        score = roc_auc_score(val_y, model.predict_proba(val_X)[:,1])\n",
    "        \n",
    "        roc_aucs.append(score)\n",
    "\n",
    "    return roc_aucs"
   ]
  },
  {
   "cell_type": "markdown",
   "id": "633b45a1",
   "metadata": {},
   "source": [
    "### LGBMClassifier с гиперпараметрами, подобранными с помощью optuna"
   ]
  },
  {
   "cell_type": "code",
   "execution_count": 18,
   "id": "7a7ae21a",
   "metadata": {},
   "outputs": [],
   "source": [
    "lgbm_clf = LGBMClassifier(random_state=42,\n",
    "                      n_estimators=2500,\n",
    "                      num_leaves=25,\n",
    "                      learning_rate=0.05,\n",
    "                      reg_lambda=5,\n",
    "                      min_child_samples=45,\n",
    "                      class_weight='balanced',\n",
    "                      objective = 'binary',\n",
    "                      verbose=0)"
   ]
  },
  {
   "cell_type": "code",
   "execution_count": 19,
   "id": "ccb1cd0d",
   "metadata": {},
   "outputs": [
    {
     "name": "stdout",
     "output_type": "stream",
     "text": [
      "[LightGBM] [Warning] Found whitespace in feature_names, replace with underlines\n",
      "[LightGBM] [Warning] Auto-choosing row-wise multi-threading, the overhead of testing was 0.053903 seconds.\n",
      "You can set `force_row_wise=true` to remove the overhead.\n",
      "And if memory is not enough, you can set `force_col_wise=true`.\n",
      "[LightGBM] [Warning] Found whitespace in feature_names, replace with underlines\n",
      "[LightGBM] [Warning] Auto-choosing row-wise multi-threading, the overhead of testing was 0.053962 seconds.\n",
      "You can set `force_row_wise=true` to remove the overhead.\n",
      "And if memory is not enough, you can set `force_col_wise=true`.\n",
      "[LightGBM] [Warning] Found whitespace in feature_names, replace with underlines\n",
      "[LightGBM] [Warning] Auto-choosing row-wise multi-threading, the overhead of testing was 0.047669 seconds.\n",
      "You can set `force_row_wise=true` to remove the overhead.\n",
      "And if memory is not enough, you can set `force_col_wise=true`.\n",
      "CPU times: user 12min 15s, sys: 4.01 s, total: 12min 19s\n",
      "Wall time: 1min 4s\n"
     ]
    }
   ],
   "source": [
    "%%time\n",
    "lgbm_cv_res = cross_val_modelling(3, X_train, y_train, lgbm_clf)"
   ]
  },
  {
   "cell_type": "code",
   "execution_count": 20,
   "id": "c3987334",
   "metadata": {},
   "outputs": [
    {
     "data": {
      "text/plain": [
       "0.9666829824707924"
      ]
     },
     "execution_count": 20,
     "metadata": {},
     "output_type": "execute_result"
    }
   ],
   "source": [
    "np.mean(lgbm_cv_res)"
   ]
  },
  {
   "cell_type": "code",
   "execution_count": 44,
   "id": "5461d805",
   "metadata": {
    "scrolled": false
   },
   "outputs": [
    {
     "name": "stdout",
     "output_type": "stream",
     "text": [
      "[LightGBM] [Warning] Found whitespace in feature_names, replace with underlines\n",
      "[LightGBM] [Warning] Auto-choosing row-wise multi-threading, the overhead of testing was 0.072953 seconds.\n",
      "You can set `force_row_wise=true` to remove the overhead.\n",
      "And if memory is not enough, you can set `force_col_wise=true`.\n",
      "[LightGBM] [Warning] Found whitespace in feature_names, replace with underlines\n",
      "[LightGBM] [Warning] Auto-choosing row-wise multi-threading, the overhead of testing was 0.084741 seconds.\n",
      "You can set `force_row_wise=true` to remove the overhead.\n",
      "And if memory is not enough, you can set `force_col_wise=true`.\n",
      "[LightGBM] [Warning] Found whitespace in feature_names, replace with underlines\n",
      "[LightGBM] [Warning] Auto-choosing row-wise multi-threading, the overhead of testing was 0.071838 seconds.\n",
      "You can set `force_row_wise=true` to remove the overhead.\n",
      "And if memory is not enough, you can set `force_col_wise=true`.\n",
      "[LightGBM] [Warning] Found whitespace in feature_names, replace with underlines\n",
      "[LightGBM] [Warning] Auto-choosing row-wise multi-threading, the overhead of testing was 0.072380 seconds.\n",
      "You can set `force_row_wise=true` to remove the overhead.\n",
      "And if memory is not enough, you can set `force_col_wise=true`.\n",
      "[LightGBM] [Warning] Found whitespace in feature_names, replace with underlines\n",
      "[LightGBM] [Warning] Auto-choosing row-wise multi-threading, the overhead of testing was 0.056449 seconds.\n",
      "You can set `force_row_wise=true` to remove the overhead.\n",
      "And if memory is not enough, you can set `force_col_wise=true`.\n",
      "CPU times: user 22min 10s, sys: 5.47 s, total: 22min 16s\n",
      "Wall time: 1min 54s\n"
     ]
    },
    {
     "data": {
      "text/plain": [
       "0.9603371492684971"
      ]
     },
     "execution_count": 44,
     "metadata": {},
     "output_type": "execute_result"
    }
   ],
   "source": [
    "%%time\n",
    "lgbm_cv_sk_5 = cross_val_score(lgbm_clf, X_train, y_train, cv=5)\n",
    "np.mean(lgbm_cv_sk_5)"
   ]
  },
  {
   "cell_type": "markdown",
   "id": "86de289d",
   "metadata": {},
   "source": [
    "### CatBoostClassifier с гиперпараметрами, подобранными с помощью optuna"
   ]
  },
  {
   "cell_type": "code",
   "execution_count": 21,
   "id": "b321ce91",
   "metadata": {},
   "outputs": [],
   "source": [
    "cb_clf = CatBoostClassifier(n_estimators=8000,\n",
    "                            depth=7,\n",
    "                            task_type=\"GPU\",\n",
    "                            learning_rate=0.1,\n",
    "                            loss_function='Logloss',\n",
    "                            verbose=False)\n"
   ]
  },
  {
   "cell_type": "code",
   "execution_count": 22,
   "id": "6d8d7e8c",
   "metadata": {},
   "outputs": [
    {
     "name": "stdout",
     "output_type": "stream",
     "text": [
      "CPU times: user 3min 45s, sys: 1min 37s, total: 5min 22s\n",
      "Wall time: 2min 49s\n"
     ]
    },
    {
     "data": {
      "text/plain": [
       "0.9672983908881488"
      ]
     },
     "execution_count": 22,
     "metadata": {},
     "output_type": "execute_result"
    }
   ],
   "source": [
    "%%time\n",
    "cb_cv_res = cross_val_modelling(3, X_train, y_train, cb_clf)\n",
    "np.mean(cb_cv_res)"
   ]
  },
  {
   "cell_type": "code",
   "execution_count": 42,
   "id": "22db193b",
   "metadata": {},
   "outputs": [
    {
     "name": "stdout",
     "output_type": "stream",
     "text": [
      "CPU times: user 6min 44s, sys: 2min 55s, total: 9min 39s\n",
      "Wall time: 5min 8s\n"
     ]
    },
    {
     "data": {
      "text/plain": [
       "0.9874479282297086"
      ]
     },
     "execution_count": 42,
     "metadata": {},
     "output_type": "execute_result"
    }
   ],
   "source": [
    "%%time\n",
    "cb_cv_sk_5 = cross_val_score(cb_clf, X_train, y_train, cv=5)\n",
    "np.mean(cb_cv_sk_5)"
   ]
  },
  {
   "cell_type": "code",
   "execution_count": 23,
   "id": "ef4cc8dd",
   "metadata": {},
   "outputs": [
    {
     "name": "stdout",
     "output_type": "stream",
     "text": [
      "CPU times: user 1min 31s, sys: 40 s, total: 2min 11s\n",
      "Wall time: 1min 11s\n"
     ]
    }
   ],
   "source": [
    "%%time\n",
    "cb_clf.fit(X_train, y_train)\n",
    "with open('CB_CLF.pkl', 'wb') as f:\n",
    "    pickle.dump(cb_clf, f)"
   ]
  },
  {
   "cell_type": "markdown",
   "id": "e979cf0d",
   "metadata": {},
   "source": [
    "### XGBClassifier с гиперпараметрами, подобранными с помощью optuna"
   ]
  },
  {
   "cell_type": "code",
   "execution_count": 24,
   "id": "f27ffd84",
   "metadata": {},
   "outputs": [],
   "source": [
    "xgb_clf = XGBClassifier(learning_rate=0.479,\n",
    "                        n_estimators=1499,\n",
    "                        tree_method='gpu_hist',\n",
    "                        gamma=0.203,\n",
    "                        max_depth=12)"
   ]
  },
  {
   "cell_type": "code",
   "execution_count": 25,
   "id": "30ef01c5",
   "metadata": {},
   "outputs": [
    {
     "name": "stdout",
     "output_type": "stream",
     "text": [
      "CPU times: user 1min 36s, sys: 1.67 s, total: 1min 38s\n",
      "Wall time: 41.4 s\n"
     ]
    },
    {
     "data": {
      "text/plain": [
       "0.9655899969062128"
      ]
     },
     "execution_count": 25,
     "metadata": {},
     "output_type": "execute_result"
    }
   ],
   "source": [
    "%%time\n",
    "xgb_cv_res = cross_val_modelling(3, X_train, y_train, xgb_clf)\n",
    "np.mean(xgb_cv_res)"
   ]
  },
  {
   "cell_type": "code",
   "execution_count": 43,
   "id": "816a5c0d",
   "metadata": {},
   "outputs": [
    {
     "name": "stdout",
     "output_type": "stream",
     "text": [
      "CPU times: user 2min 58s, sys: 3.46 s, total: 3min 1s\n",
      "Wall time: 1min 19s\n"
     ]
    },
    {
     "data": {
      "text/plain": [
       "0.9863557070708943"
      ]
     },
     "execution_count": 43,
     "metadata": {},
     "output_type": "execute_result"
    }
   ],
   "source": [
    "%%time\n",
    "xgb_cv_sk_5 = cross_val_score(xgb_clf, X_train, y_train, cv=5)\n",
    "np.mean(xgb_cv_sk_5)"
   ]
  },
  {
   "cell_type": "code",
   "execution_count": 26,
   "id": "e4ab7771",
   "metadata": {},
   "outputs": [
    {
     "name": "stdout",
     "output_type": "stream",
     "text": [
      "CPU times: user 40.1 s, sys: 596 ms, total: 40.7 s\n",
      "Wall time: 19 s\n"
     ]
    }
   ],
   "source": [
    "%%time\n",
    "xgb_clf.fit(X_train, y_train)\n",
    "with open('XGB_CLF.pkl', 'wb') as f:\n",
    "    pickle.dump(xgb_clf, f)"
   ]
  },
  {
   "cell_type": "markdown",
   "id": "0de1df43",
   "metadata": {},
   "source": [
    "### StackingClassifier"
   ]
  },
  {
   "cell_type": "code",
   "execution_count": 27,
   "id": "e8212889",
   "metadata": {},
   "outputs": [],
   "source": [
    "estimators = [('lgbm', lgbm_clf), ('cb', cb_clf), ('xgb', xgb_clf)]\n",
    "stack_clf = StackingClassifier(estimators=estimators)"
   ]
  },
  {
   "cell_type": "code",
   "execution_count": 33,
   "id": "7254aa11",
   "metadata": {},
   "outputs": [],
   "source": [
    "import sklearn\n",
    "from sklearn.model_selection import cross_val_score"
   ]
  },
  {
   "cell_type": "code",
   "execution_count": 34,
   "id": "d3e84c51",
   "metadata": {
    "scrolled": true
   },
   "outputs": [
    {
     "name": "stdout",
     "output_type": "stream",
     "text": [
      "[LightGBM] [Warning] Found whitespace in feature_names, replace with underlines\n",
      "[LightGBM] [Warning] Auto-choosing row-wise multi-threading, the overhead of testing was 0.045481 seconds.\n",
      "You can set `force_row_wise=true` to remove the overhead.\n",
      "And if memory is not enough, you can set `force_col_wise=true`.\n",
      "[LightGBM] [Warning] Found whitespace in feature_names, replace with underlines\n",
      "[LightGBM] [Warning] Auto-choosing row-wise multi-threading, the overhead of testing was 0.036737 seconds.\n",
      "You can set `force_row_wise=true` to remove the overhead.\n",
      "And if memory is not enough, you can set `force_col_wise=true`.\n",
      "[LightGBM] [Warning] Found whitespace in feature_names, replace with underlines\n",
      "[LightGBM] [Warning] Auto-choosing row-wise multi-threading, the overhead of testing was 0.039705 seconds.\n",
      "You can set `force_row_wise=true` to remove the overhead.\n",
      "And if memory is not enough, you can set `force_col_wise=true`.\n",
      "[LightGBM] [Warning] Found whitespace in feature_names, replace with underlines\n",
      "[LightGBM] [Warning] Auto-choosing row-wise multi-threading, the overhead of testing was 0.047576 seconds.\n",
      "You can set `force_row_wise=true` to remove the overhead.\n",
      "And if memory is not enough, you can set `force_col_wise=true`.\n",
      "[LightGBM] [Warning] Found whitespace in feature_names, replace with underlines\n",
      "[LightGBM] [Warning] Auto-choosing row-wise multi-threading, the overhead of testing was 0.036448 seconds.\n",
      "You can set `force_row_wise=true` to remove the overhead.\n",
      "And if memory is not enough, you can set `force_col_wise=true`.\n",
      "[LightGBM] [Warning] Found whitespace in feature_names, replace with underlines\n",
      "[LightGBM] [Warning] Auto-choosing row-wise multi-threading, the overhead of testing was 0.047148 seconds.\n",
      "You can set `force_row_wise=true` to remove the overhead.\n",
      "And if memory is not enough, you can set `force_col_wise=true`.\n",
      "[LightGBM] [Warning] Found whitespace in feature_names, replace with underlines\n",
      "[LightGBM] [Warning] Auto-choosing row-wise multi-threading, the overhead of testing was 0.061558 seconds.\n",
      "You can set `force_row_wise=true` to remove the overhead.\n",
      "And if memory is not enough, you can set `force_col_wise=true`.\n",
      "[LightGBM] [Warning] Found whitespace in feature_names, replace with underlines\n",
      "[LightGBM] [Warning] Auto-choosing row-wise multi-threading, the overhead of testing was 0.049085 seconds.\n",
      "You can set `force_row_wise=true` to remove the overhead.\n",
      "And if memory is not enough, you can set `force_col_wise=true`.\n",
      "[LightGBM] [Warning] Found whitespace in feature_names, replace with underlines\n",
      "[LightGBM] [Warning] Auto-choosing row-wise multi-threading, the overhead of testing was 0.040060 seconds.\n",
      "You can set `force_row_wise=true` to remove the overhead.\n",
      "And if memory is not enough, you can set `force_col_wise=true`.\n",
      "[LightGBM] [Warning] Found whitespace in feature_names, replace with underlines\n",
      "[LightGBM] [Warning] Auto-choosing row-wise multi-threading, the overhead of testing was 0.049375 seconds.\n",
      "You can set `force_row_wise=true` to remove the overhead.\n",
      "And if memory is not enough, you can set `force_col_wise=true`.\n",
      "[LightGBM] [Warning] Found whitespace in feature_names, replace with underlines\n",
      "[LightGBM] [Warning] Auto-choosing row-wise multi-threading, the overhead of testing was 0.041005 seconds.\n",
      "You can set `force_row_wise=true` to remove the overhead.\n",
      "And if memory is not enough, you can set `force_col_wise=true`.\n",
      "[LightGBM] [Warning] Found whitespace in feature_names, replace with underlines\n",
      "[LightGBM] [Warning] Auto-choosing col-wise multi-threading, the overhead of testing was 0.100692 seconds.\n",
      "You can set `force_col_wise=true` to remove the overhead.\n",
      "[LightGBM] [Warning] Found whitespace in feature_names, replace with underlines\n",
      "[LightGBM] [Warning] Auto-choosing row-wise multi-threading, the overhead of testing was 0.045434 seconds.\n",
      "You can set `force_row_wise=true` to remove the overhead.\n",
      "And if memory is not enough, you can set `force_col_wise=true`.\n",
      "[LightGBM] [Warning] Found whitespace in feature_names, replace with underlines\n",
      "[LightGBM] [Warning] Auto-choosing row-wise multi-threading, the overhead of testing was 0.036983 seconds.\n",
      "You can set `force_row_wise=true` to remove the overhead.\n",
      "And if memory is not enough, you can set `force_col_wise=true`.\n",
      "[LightGBM] [Warning] Found whitespace in feature_names, replace with underlines\n",
      "[LightGBM] [Warning] Auto-choosing row-wise multi-threading, the overhead of testing was 0.036656 seconds.\n",
      "You can set `force_row_wise=true` to remove the overhead.\n",
      "And if memory is not enough, you can set `force_col_wise=true`.\n",
      "[LightGBM] [Warning] Found whitespace in feature_names, replace with underlines\n",
      "[LightGBM] [Warning] Auto-choosing row-wise multi-threading, the overhead of testing was 0.048715 seconds.\n",
      "You can set `force_row_wise=true` to remove the overhead.\n",
      "And if memory is not enough, you can set `force_col_wise=true`.\n",
      "[LightGBM] [Warning] Found whitespace in feature_names, replace with underlines\n",
      "[LightGBM] [Warning] Auto-choosing row-wise multi-threading, the overhead of testing was 0.055976 seconds.\n",
      "You can set `force_row_wise=true` to remove the overhead.\n",
      "And if memory is not enough, you can set `force_col_wise=true`.\n",
      "[LightGBM] [Warning] Found whitespace in feature_names, replace with underlines\n",
      "[LightGBM] [Warning] Auto-choosing row-wise multi-threading, the overhead of testing was 0.047464 seconds.\n",
      "You can set `force_row_wise=true` to remove the overhead.\n",
      "And if memory is not enough, you can set `force_col_wise=true`.\n",
      "CPU times: user 1h 37min 28s, sys: 9min 52s, total: 1h 47min 20s\n",
      "Wall time: 25min 24s\n"
     ]
    },
    {
     "data": {
      "text/plain": [
       "0.9869166349046471"
      ]
     },
     "execution_count": 34,
     "metadata": {},
     "output_type": "execute_result"
    }
   ],
   "source": [
    "%%time\n",
    "# use sklearn crossval score \n",
    "# \n",
    "stack_cv_res = cross_val_score(stack_clf, X_train, y_train, cv=3)\n",
    "np.mean(stack_cv_res)"
   ]
  },
  {
   "cell_type": "code",
   "execution_count": 35,
   "id": "fd4d2d5c",
   "metadata": {},
   "outputs": [
    {
     "name": "stdout",
     "output_type": "stream",
     "text": [
      "[LightGBM] [Warning] Found whitespace in feature_names, replace with underlines\n",
      "[LightGBM] [Warning] Auto-choosing row-wise multi-threading, the overhead of testing was 0.080914 seconds.\n",
      "You can set `force_row_wise=true` to remove the overhead.\n",
      "And if memory is not enough, you can set `force_col_wise=true`.\n",
      "[LightGBM] [Warning] Found whitespace in feature_names, replace with underlines\n",
      "[LightGBM] [Warning] Auto-choosing row-wise multi-threading, the overhead of testing was 0.071882 seconds.\n",
      "You can set `force_row_wise=true` to remove the overhead.\n",
      "And if memory is not enough, you can set `force_col_wise=true`.\n",
      "[LightGBM] [Warning] Found whitespace in feature_names, replace with underlines\n",
      "[LightGBM] [Warning] Auto-choosing row-wise multi-threading, the overhead of testing was 0.072734 seconds.\n",
      "You can set `force_row_wise=true` to remove the overhead.\n",
      "And if memory is not enough, you can set `force_col_wise=true`.\n",
      "[LightGBM] [Warning] Found whitespace in feature_names, replace with underlines\n",
      "[LightGBM] [Warning] Auto-choosing row-wise multi-threading, the overhead of testing was 0.071036 seconds.\n",
      "You can set `force_row_wise=true` to remove the overhead.\n",
      "And if memory is not enough, you can set `force_col_wise=true`.\n",
      "[LightGBM] [Warning] Found whitespace in feature_names, replace with underlines\n",
      "[LightGBM] [Warning] Auto-choosing row-wise multi-threading, the overhead of testing was 0.071256 seconds.\n",
      "You can set `force_row_wise=true` to remove the overhead.\n",
      "And if memory is not enough, you can set `force_col_wise=true`.\n",
      "[LightGBM] [Warning] Found whitespace in feature_names, replace with underlines\n",
      "[LightGBM] [Warning] Auto-choosing row-wise multi-threading, the overhead of testing was 0.069911 seconds.\n",
      "You can set `force_row_wise=true` to remove the overhead.\n",
      "And if memory is not enough, you can set `force_col_wise=true`.\n",
      "CPU times: user 39min 59s, sys: 3min 50s, total: 43min 49s\n",
      "Wall time: 10min 25s\n"
     ]
    }
   ],
   "source": [
    "%%time\n",
    "stack_clf.fit(X_train, y_train)\n",
    "with open('STACK_CLF.pkl', 'wb') as f:\n",
    "    pickle.dump(stack_clf, f)"
   ]
  },
  {
   "cell_type": "code",
   "execution_count": 36,
   "id": "99315a9b",
   "metadata": {},
   "outputs": [],
   "source": [
    "X_test = prep_data_pipe.transform(X_test)"
   ]
  },
  {
   "cell_type": "code",
   "execution_count": 37,
   "id": "2d1e7321",
   "metadata": {},
   "outputs": [],
   "source": [
    "stack_pred_proba = stack_clf.predict_proba(X_test)"
   ]
  },
  {
   "cell_type": "code",
   "execution_count": 39,
   "id": "ad891288",
   "metadata": {},
   "outputs": [
    {
     "data": {
      "text/plain": [
       "0.9651440211205354"
      ]
     },
     "execution_count": 39,
     "metadata": {},
     "output_type": "execute_result"
    }
   ],
   "source": [
    "roc_auc_score(y_test, stack_pred_proba[:,1])"
   ]
  },
  {
   "cell_type": "code",
   "execution_count": 41,
   "id": "cdab1832",
   "metadata": {
    "scrolled": true
   },
   "outputs": [
    {
     "name": "stdout",
     "output_type": "stream",
     "text": [
      "[LightGBM] [Warning] Found whitespace in feature_names, replace with underlines\n",
      "[LightGBM] [Warning] Auto-choosing row-wise multi-threading, the overhead of testing was 0.075489 seconds.\n",
      "You can set `force_row_wise=true` to remove the overhead.\n",
      "And if memory is not enough, you can set `force_col_wise=true`.\n",
      "[LightGBM] [Warning] Found whitespace in feature_names, replace with underlines\n",
      "[LightGBM] [Warning] Auto-choosing row-wise multi-threading, the overhead of testing was 0.046439 seconds.\n",
      "You can set `force_row_wise=true` to remove the overhead.\n",
      "And if memory is not enough, you can set `force_col_wise=true`.\n",
      "[LightGBM] [Warning] Found whitespace in feature_names, replace with underlines\n",
      "[LightGBM] [Warning] Auto-choosing row-wise multi-threading, the overhead of testing was 0.058588 seconds.\n",
      "You can set `force_row_wise=true` to remove the overhead.\n",
      "And if memory is not enough, you can set `force_col_wise=true`.\n",
      "[LightGBM] [Warning] Found whitespace in feature_names, replace with underlines\n",
      "[LightGBM] [Warning] Auto-choosing row-wise multi-threading, the overhead of testing was 0.057951 seconds.\n",
      "You can set `force_row_wise=true` to remove the overhead.\n",
      "And if memory is not enough, you can set `force_col_wise=true`.\n",
      "[LightGBM] [Warning] Found whitespace in feature_names, replace with underlines\n",
      "[LightGBM] [Warning] Auto-choosing row-wise multi-threading, the overhead of testing was 0.103162 seconds.\n",
      "You can set `force_row_wise=true` to remove the overhead.\n",
      "And if memory is not enough, you can set `force_col_wise=true`.\n",
      "[LightGBM] [Warning] Found whitespace in feature_names, replace with underlines\n",
      "[LightGBM] [Warning] Auto-choosing row-wise multi-threading, the overhead of testing was 0.059671 seconds.\n",
      "You can set `force_row_wise=true` to remove the overhead.\n",
      "And if memory is not enough, you can set `force_col_wise=true`.\n",
      "[LightGBM] [Warning] Found whitespace in feature_names, replace with underlines\n",
      "[LightGBM] [Warning] Auto-choosing row-wise multi-threading, the overhead of testing was 0.073612 seconds.\n",
      "You can set `force_row_wise=true` to remove the overhead.\n",
      "And if memory is not enough, you can set `force_col_wise=true`.\n",
      "[LightGBM] [Warning] Found whitespace in feature_names, replace with underlines\n",
      "[LightGBM] [Warning] Auto-choosing row-wise multi-threading, the overhead of testing was 0.056086 seconds.\n",
      "You can set `force_row_wise=true` to remove the overhead.\n",
      "And if memory is not enough, you can set `force_col_wise=true`.\n",
      "[LightGBM] [Warning] Found whitespace in feature_names, replace with underlines\n",
      "[LightGBM] [Warning] Auto-choosing row-wise multi-threading, the overhead of testing was 0.047797 seconds.\n",
      "You can set `force_row_wise=true` to remove the overhead.\n",
      "And if memory is not enough, you can set `force_col_wise=true`.\n",
      "[LightGBM] [Warning] Found whitespace in feature_names, replace with underlines\n",
      "[LightGBM] [Warning] Auto-choosing row-wise multi-threading, the overhead of testing was 0.053263 seconds.\n",
      "You can set `force_row_wise=true` to remove the overhead.\n",
      "And if memory is not enough, you can set `force_col_wise=true`.\n",
      "[LightGBM] [Warning] Found whitespace in feature_names, replace with underlines\n",
      "[LightGBM] [Warning] Auto-choosing col-wise multi-threading, the overhead of testing was 0.097474 seconds.\n",
      "You can set `force_col_wise=true` to remove the overhead.\n",
      "[LightGBM] [Warning] Found whitespace in feature_names, replace with underlines\n",
      "[LightGBM] [Warning] Auto-choosing row-wise multi-threading, the overhead of testing was 0.070271 seconds.\n",
      "You can set `force_row_wise=true` to remove the overhead.\n",
      "And if memory is not enough, you can set `force_col_wise=true`.\n",
      "[LightGBM] [Warning] Found whitespace in feature_names, replace with underlines\n",
      "[LightGBM] [Warning] Auto-choosing row-wise multi-threading, the overhead of testing was 0.073408 seconds.\n",
      "You can set `force_row_wise=true` to remove the overhead.\n",
      "And if memory is not enough, you can set `force_col_wise=true`.\n",
      "[LightGBM] [Warning] Found whitespace in feature_names, replace with underlines\n",
      "[LightGBM] [Warning] Auto-choosing row-wise multi-threading, the overhead of testing was 0.056888 seconds.\n",
      "You can set `force_row_wise=true` to remove the overhead.\n",
      "And if memory is not enough, you can set `force_col_wise=true`.\n",
      "[LightGBM] [Warning] Found whitespace in feature_names, replace with underlines\n",
      "[LightGBM] [Warning] Auto-choosing row-wise multi-threading, the overhead of testing was 0.045453 seconds.\n",
      "You can set `force_row_wise=true` to remove the overhead.\n",
      "And if memory is not enough, you can set `force_col_wise=true`.\n",
      "[LightGBM] [Warning] Found whitespace in feature_names, replace with underlines\n",
      "[LightGBM] [Warning] Auto-choosing row-wise multi-threading, the overhead of testing was 0.045620 seconds.\n",
      "You can set `force_row_wise=true` to remove the overhead.\n",
      "And if memory is not enough, you can set `force_col_wise=true`.\n",
      "[LightGBM] [Warning] Found whitespace in feature_names, replace with underlines\n",
      "[LightGBM] [Warning] Auto-choosing row-wise multi-threading, the overhead of testing was 0.056665 seconds.\n",
      "You can set `force_row_wise=true` to remove the overhead.\n",
      "And if memory is not enough, you can set `force_col_wise=true`.\n",
      "[LightGBM] [Warning] Found whitespace in feature_names, replace with underlines\n",
      "[LightGBM] [Warning] Auto-choosing row-wise multi-threading, the overhead of testing was 0.056932 seconds.\n",
      "You can set `force_row_wise=true` to remove the overhead.\n",
      "And if memory is not enough, you can set `force_col_wise=true`.\n",
      "[LightGBM] [Warning] Found whitespace in feature_names, replace with underlines\n",
      "[LightGBM] [Warning] Auto-choosing row-wise multi-threading, the overhead of testing was 0.071865 seconds.\n",
      "You can set `force_row_wise=true` to remove the overhead.\n",
      "And if memory is not enough, you can set `force_col_wise=true`.\n",
      "[LightGBM] [Warning] Found whitespace in feature_names, replace with underlines\n",
      "[LightGBM] [Warning] Auto-choosing row-wise multi-threading, the overhead of testing was 0.045140 seconds.\n",
      "You can set `force_row_wise=true` to remove the overhead.\n",
      "And if memory is not enough, you can set `force_col_wise=true`.\n",
      "[LightGBM] [Warning] Found whitespace in feature_names, replace with underlines\n",
      "[LightGBM] [Warning] Auto-choosing row-wise multi-threading, the overhead of testing was 0.045991 seconds.\n",
      "You can set `force_row_wise=true` to remove the overhead.\n",
      "And if memory is not enough, you can set `force_col_wise=true`.\n",
      "[LightGBM] [Warning] Found whitespace in feature_names, replace with underlines\n",
      "[LightGBM] [Warning] Auto-choosing row-wise multi-threading, the overhead of testing was 0.058031 seconds.\n",
      "You can set `force_row_wise=true` to remove the overhead.\n",
      "And if memory is not enough, you can set `force_col_wise=true`.\n",
      "[LightGBM] [Warning] Found whitespace in feature_names, replace with underlines\n",
      "[LightGBM] [Warning] Auto-choosing row-wise multi-threading, the overhead of testing was 0.044699 seconds.\n",
      "You can set `force_row_wise=true` to remove the overhead.\n",
      "And if memory is not enough, you can set `force_col_wise=true`.\n",
      "[LightGBM] [Warning] Found whitespace in feature_names, replace with underlines\n",
      "[LightGBM] [Warning] Auto-choosing row-wise multi-threading, the overhead of testing was 0.044900 seconds.\n",
      "You can set `force_row_wise=true` to remove the overhead.\n",
      "And if memory is not enough, you can set `force_col_wise=true`.\n",
      "[LightGBM] [Warning] Found whitespace in feature_names, replace with underlines\n",
      "[LightGBM] [Warning] Auto-choosing row-wise multi-threading, the overhead of testing was 0.056119 seconds.\n",
      "You can set `force_row_wise=true` to remove the overhead.\n",
      "And if memory is not enough, you can set `force_col_wise=true`.\n",
      "[LightGBM] [Warning] Found whitespace in feature_names, replace with underlines\n",
      "[LightGBM] [Warning] Auto-choosing row-wise multi-threading, the overhead of testing was 0.057281 seconds.\n",
      "You can set `force_row_wise=true` to remove the overhead.\n",
      "And if memory is not enough, you can set `force_col_wise=true`.\n",
      "[LightGBM] [Warning] Found whitespace in feature_names, replace with underlines\n",
      "[LightGBM] [Warning] Auto-choosing row-wise multi-threading, the overhead of testing was 0.057247 seconds.\n",
      "You can set `force_row_wise=true` to remove the overhead.\n",
      "And if memory is not enough, you can set `force_col_wise=true`.\n"
     ]
    },
    {
     "name": "stdout",
     "output_type": "stream",
     "text": [
      "[LightGBM] [Warning] Found whitespace in feature_names, replace with underlines\n",
      "[LightGBM] [Warning] Auto-choosing row-wise multi-threading, the overhead of testing was 0.056846 seconds.\n",
      "You can set `force_row_wise=true` to remove the overhead.\n",
      "And if memory is not enough, you can set `force_col_wise=true`.\n",
      "[LightGBM] [Warning] Found whitespace in feature_names, replace with underlines\n",
      "[LightGBM] [Warning] Auto-choosing row-wise multi-threading, the overhead of testing was 0.059935 seconds.\n",
      "You can set `force_row_wise=true` to remove the overhead.\n",
      "And if memory is not enough, you can set `force_col_wise=true`.\n",
      "[LightGBM] [Warning] Found whitespace in feature_names, replace with underlines\n",
      "[LightGBM] [Warning] Auto-choosing row-wise multi-threading, the overhead of testing was 0.047755 seconds.\n",
      "You can set `force_row_wise=true` to remove the overhead.\n",
      "And if memory is not enough, you can set `force_col_wise=true`.\n",
      "CPU times: user 2h 48min 24s, sys: 17min 1s, total: 3h 5min 26s\n",
      "Wall time: 44min 53s\n"
     ]
    },
    {
     "data": {
      "text/plain": [
       "0.9876151479862413"
      ]
     },
     "execution_count": 41,
     "metadata": {},
     "output_type": "execute_result"
    }
   ],
   "source": [
    "%%time\n",
    "stack_cv_res_5 = cross_val_score(stack_clf, X_train, y_train, cv=5)\n",
    "np.mean(stack_cv_res_5)"
   ]
  },
  {
   "cell_type": "code",
   "execution_count": null,
   "id": "6c2ea435",
   "metadata": {},
   "outputs": [],
   "source": []
  },
  {
   "cell_type": "code",
   "execution_count": null,
   "id": "9c2a653d",
   "metadata": {},
   "outputs": [],
   "source": []
  }
 ],
 "metadata": {
  "kernelspec": {
   "display_name": "Python 3 (ipykernel)",
   "language": "python",
   "name": "python3"
  },
  "language_info": {
   "codemirror_mode": {
    "name": "ipython",
    "version": 3
   },
   "file_extension": ".py",
   "mimetype": "text/x-python",
   "name": "python",
   "nbconvert_exporter": "python",
   "pygments_lexer": "ipython3",
   "version": "3.9.13"
  }
 },
 "nbformat": 4,
 "nbformat_minor": 5
}
