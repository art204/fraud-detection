{
 "cells": [
  {
   "cell_type": "code",
   "execution_count": 1,
   "id": "8723b645",
   "metadata": {},
   "outputs": [
    {
     "data": {
      "text/html": [
       "<style>.container { width:100% !important; }</style>"
      ],
      "text/plain": [
       "<IPython.core.display.HTML object>"
      ]
     },
     "metadata": {},
     "output_type": "display_data"
    }
   ],
   "source": [
    "from IPython.display import display, HTML\n",
    "display(HTML(\"<style>.container { width:100% !important; }</style>\"))\n",
    "import pandas as pd\n",
    "import numpy as np\n",
    "import seaborn as sns\n",
    "import matplotlib.pyplot as plt\n",
    "import plotly\n",
    "import plotly.graph_objects as go\n",
    "from plotly.subplots import make_subplots\n",
    "import itertools as it\n",
    "from collections import defaultdict\n",
    "import seaborn as sns\n",
    "pd.set_option('display.max_columns', None)"
   ]
  },
  {
   "cell_type": "code",
   "execution_count": 2,
   "id": "33e86617",
   "metadata": {},
   "outputs": [],
   "source": [
    "train_trs = pd.read_csv('/home/user/Desktop/courseProject/data/train_transaction.csv')\n",
    "train_idn = pd.read_csv('/home/user/Desktop/courseProject/data/train_identity.csv')"
   ]
  },
  {
   "cell_type": "code",
   "execution_count": 3,
   "id": "b9898487",
   "metadata": {},
   "outputs": [],
   "source": [
    "data_merged = pd.merge(train_trs, train_idn, left_on='TransactionID', right_on='TransactionID', how='left')"
   ]
  },
  {
   "cell_type": "code",
   "execution_count": 4,
   "id": "54e96779",
   "metadata": {},
   "outputs": [],
   "source": [
    "def get_share_of_NaN(df):\n",
    "    result = pd.DataFrame(columns=['Name', 'Number_of_NaN', 'Share_of_NaN'])\n",
    "    colcount = df.count()\n",
    "    length = len(df)\n",
    "    for col_name in colcount.keys():\n",
    "        result.loc[len(result)] = [col_name, length-colcount[col_name], (length-colcount[col_name])/length]\n",
    "    return result\n",
    "\n",
    "def remove_columns_with_many_NaN(df, max_nan_rate):\n",
    "    '''\n",
    "    Параметры:\n",
    "    df - DataFrame\n",
    "    max_nan_rate - максимальная допустимая доля NaN в колонках датафрейма\n",
    "    Функция возвращает:\n",
    "    1) новый датафрейм, в котором удалены колонки, в которых доля NaN болше, чем max_nan_rate\n",
    "    2) список удалённых колонок\n",
    "    '''\n",
    "    df_copy = df.copy()\n",
    "    removed_columns = []\n",
    "    nan_stat = get_share_of_NaN(df)\n",
    "    for i in range(len(nan_stat)):\n",
    "        column = nan_stat.loc[i]\n",
    "        if(column['Share_of_NaN'] > max_nan_rate):\n",
    "            removed_columns.append(column['Name'])\n",
    "            \n",
    "    df_copy.drop(columns=removed_columns, inplace=True)\n",
    "    return df_copy, removed_columns\n",
    "\n",
    "def remove_columns_with_big_correlation(df, max_corr):\n",
    "    '''\n",
    "    Параметры:\n",
    "    df - DataFrame\n",
    "    max_corr - максимальная допустимая корреляция между колонками\n",
    "    Функция возвращает:\n",
    "    1) новый датафрейм, в котором удалены колонки, в которых корреляция болше, чем max_corr\n",
    "    2) множество удалённых колонок\n",
    "    '''\n",
    "    df_copy = df.copy()\n",
    "    removed_columns = set()\n",
    "    corrs = df.corr()\n",
    "    cols = corrs.columns\n",
    "    for i in range(len(cols)):\n",
    "        col_name_1 = cols[i]\n",
    "        if col_name_1 in {'TransactionID', 'isFraud', 'TransactionDT'} or col_name_1 in removed_columns:\n",
    "            continue\n",
    "        \n",
    "        for j in range(i+1, len(cols)):\n",
    "            col_name_2 = cols[j]\n",
    "            if abs(corrs[col_name_1][col_name_2]) > max_corr:\n",
    "                removed_columns.add(col_name_2)\n",
    "\n",
    "    df_copy.drop(columns=removed_columns, inplace=True)\n",
    "    return df_copy, removed_columns"
   ]
  },
  {
   "cell_type": "code",
   "execution_count": 5,
   "id": "0001d0ab",
   "metadata": {},
   "outputs": [
    {
     "name": "stdout",
     "output_type": "stream",
     "text": [
      "<class 'pandas.core.frame.DataFrame'>\n",
      "<class 'pandas.core.frame.DataFrame'>\n",
      "434\n"
     ]
    }
   ],
   "source": [
    "print(type(train_idn))\n",
    "print(type(data_merged))\n",
    "print(len(data_merged.columns))"
   ]
  },
  {
   "cell_type": "code",
   "execution_count": 6,
   "id": "242d225d",
   "metadata": {},
   "outputs": [],
   "source": [
    "%%time\n",
    "data_merged, removed_nan_cols = remove_columns_with_many_NaN(data_merged, 0.85)\n",
    "data_merged_rm_cols, removed_corr_cols = remove_columns_with_big_correlation(data_merged, 0.9)"
   ]
  },
  {
   "cell_type": "code",
   "execution_count": 10,
   "id": "ee977051",
   "metadata": {},
   "outputs": [],
   "source": [
    "data_merged_rm_cols.to_csv('/home/user/Desktop/courseProject/data/train_cols.csv')"
   ]
  },
  {
   "cell_type": "code",
   "execution_count": 7,
   "id": "a255be5c",
   "metadata": {},
   "outputs": [
    {
     "name": "stdout",
     "output_type": "stream",
     "text": [
      "218\n"
     ]
    }
   ],
   "source": [
    "print(len(data_merged_rm_cols.columns))"
   ]
  },
  {
   "cell_type": "code",
   "execution_count": 31,
   "id": "522cc42c",
   "metadata": {},
   "outputs": [
    {
     "name": "stdout",
     "output_type": "stream",
     "text": [
      "       ProductCD  card1  card2  card3       card4  card5   card6  addr1  \\\n",
      "0              W  13926    NaN  150.0    discover  142.0  credit  315.0   \n",
      "1              W   2755  404.0  150.0  mastercard  102.0  credit  325.0   \n",
      "2              W   4663  490.0  150.0        visa  166.0   debit  330.0   \n",
      "3              W  18132  567.0  150.0  mastercard  117.0   debit  476.0   \n",
      "4              H   4497  514.0  150.0  mastercard  102.0  credit  420.0   \n",
      "...          ...    ...    ...    ...         ...    ...     ...    ...   \n",
      "590535         W   6550    NaN  150.0        visa  226.0   debit  272.0   \n",
      "590536         W  10444  225.0  150.0  mastercard  224.0   debit  204.0   \n",
      "590537         W  12037  595.0  150.0  mastercard  224.0   debit  231.0   \n",
      "590538         W   7826  481.0  150.0  mastercard  224.0   debit  387.0   \n",
      "590539         W  15066  170.0  150.0  mastercard  102.0  credit  299.0   \n",
      "\n",
      "        addr2 P_emaildomain R_emaildomain   M1   M2   M3   M4   M5   M6   M7  \\\n",
      "0        87.0           NaN           NaN    T    T    T   M2    F    T  NaN   \n",
      "1        87.0     gmail.com           NaN  NaN  NaN  NaN   M0    T    T  NaN   \n",
      "2        87.0   outlook.com           NaN    T    T    T   M0    F    F    F   \n",
      "3        87.0     yahoo.com           NaN  NaN  NaN  NaN   M0    T    F  NaN   \n",
      "4        87.0     gmail.com           NaN  NaN  NaN  NaN  NaN  NaN  NaN  NaN   \n",
      "...       ...           ...           ...  ...  ...  ...  ...  ...  ...  ...   \n",
      "590535   87.0           NaN           NaN    T    T    T   M0    T    F    F   \n",
      "590536   87.0     gmail.com           NaN    T    F    F   M0    F    T    F   \n",
      "590537   87.0     gmail.com           NaN    T    F    F  NaN  NaN    T  NaN   \n",
      "590538   87.0       aol.com           NaN    T    T    T   M0    F    T  NaN   \n",
      "590539   87.0     gmail.com           NaN    T    F    F  NaN  NaN    T    F   \n",
      "\n",
      "         M8   M9     id_12 id_15     id_16 id_28     id_29  \\\n",
      "0       NaN  NaN       NaN   NaN       NaN   NaN       NaN   \n",
      "1       NaN  NaN       NaN   NaN       NaN   NaN       NaN   \n",
      "2         F    F       NaN   NaN       NaN   NaN       NaN   \n",
      "3       NaN  NaN       NaN   NaN       NaN   NaN       NaN   \n",
      "4       NaN  NaN  NotFound   New  NotFound   New  NotFound   \n",
      "...     ...  ...       ...   ...       ...   ...       ...   \n",
      "590535    F    T       NaN   NaN       NaN   NaN       NaN   \n",
      "590536    F    F       NaN   NaN       NaN   NaN       NaN   \n",
      "590537  NaN  NaN       NaN   NaN       NaN   NaN       NaN   \n",
      "590538  NaN  NaN       NaN   NaN       NaN   NaN       NaN   \n",
      "590539    F    F       NaN   NaN       NaN   NaN       NaN   \n",
      "\n",
      "                      id_31 id_35 id_36 id_37 id_38 DeviceType  \\\n",
      "0                       NaN   NaN   NaN   NaN   NaN        NaN   \n",
      "1                       NaN   NaN   NaN   NaN   NaN        NaN   \n",
      "2                       NaN   NaN   NaN   NaN   NaN        NaN   \n",
      "3                       NaN   NaN   NaN   NaN   NaN        NaN   \n",
      "4       samsung browser 6.2     T     F     T     T     mobile   \n",
      "...                     ...   ...   ...   ...   ...        ...   \n",
      "590535                  NaN   NaN   NaN   NaN   NaN        NaN   \n",
      "590536                  NaN   NaN   NaN   NaN   NaN        NaN   \n",
      "590537                  NaN   NaN   NaN   NaN   NaN        NaN   \n",
      "590538                  NaN   NaN   NaN   NaN   NaN        NaN   \n",
      "590539                  NaN   NaN   NaN   NaN   NaN        NaN   \n",
      "\n",
      "                           DeviceInfo  \n",
      "0                                 NaN  \n",
      "1                                 NaN  \n",
      "2                                 NaN  \n",
      "3                                 NaN  \n",
      "4       SAMSUNG SM-G892A Build/NRD90M  \n",
      "...                               ...  \n",
      "590535                            NaN  \n",
      "590536                            NaN  \n",
      "590537                            NaN  \n",
      "590538                            NaN  \n",
      "590539                            NaN  \n",
      "\n",
      "[590540 rows x 32 columns]\n"
     ]
    }
   ],
   "source": [
    "cat_features_mask = (data_merged_rm_cols.dtypes == \"object\").values\n",
    "val_features_mask = (data_merged.dtypes != \"object\").values\n",
    "for i in range(len(data_merged_rm_cols.columns)):\n",
    "    if data_merged_rm_cols.iloc[:,i].name in ['card1', 'card2', 'card3', 'card5', 'addr1', 'addr2']:\n",
    "        cat_features_mask[i] = True\n",
    "        val_features_mask[i] = False\n",
    "\n",
    "\n",
    "\n",
    "    #real_cols = train_trs[train_trs.columns[~cat_features_mask]]\n",
    "cat_cols = data_merged_rm_cols[data_merged_rm_cols.columns[cat_features_mask]]\n",
    "var_cols = data_merged_rm_cols[data_merged_rm_cols.columns[~cat_features_mask]]\n",
    "print(cat_cols)"
   ]
  },
  {
   "cell_type": "code",
   "execution_count": null,
   "id": "d76f675f",
   "metadata": {},
   "outputs": [],
   "source": [
    "train_merged_no_corr, big_corr_columns = remove_columns_with_big_correlation(new_train_merged, 0.9)"
   ]
  }
 ],
 "metadata": {
  "kernelspec": {
   "display_name": "Python 3 (ipykernel)",
   "language": "python",
   "name": "python3"
  },
  "language_info": {
   "codemirror_mode": {
    "name": "ipython",
    "version": 3
   },
   "file_extension": ".py",
   "mimetype": "text/x-python",
   "name": "python",
   "nbconvert_exporter": "python",
   "pygments_lexer": "ipython3",
   "version": "3.9.13"
  }
 },
 "nbformat": 4,
 "nbformat_minor": 5
}
