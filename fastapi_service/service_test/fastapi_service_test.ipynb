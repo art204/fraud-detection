{
 "cells": [
  {
   "cell_type": "code",
   "execution_count": 1,
   "id": "bbb482b2",
   "metadata": {},
   "outputs": [],
   "source": [
    "import pandas as pd\n",
    "import numpy as np\n",
    "from sklearn.model_selection import train_test_split\n",
    "\n",
    "import requests\n",
    "import json\n",
    "\n",
    "random_state = 42"
   ]
  },
  {
   "cell_type": "code",
   "execution_count": 2,
   "id": "75e121b5",
   "metadata": {},
   "outputs": [],
   "source": [
    "raw_data = pd.merge(pd.read_csv('../../anomaly/data/train_transaction.csv'), pd.read_csv('../../anomaly/data/train_identity.csv'),\n",
    "                    left_on='TransactionID', right_on='TransactionID', how='left')\n",
    "\n",
    "X_train, X_test = train_test_split(raw_data, test_size=0.2, random_state=random_state)\n",
    "X_train.reset_index(drop=True, inplace=True)\n",
    "y_train = X_train['isFraud']\n",
    "X_train.drop(columns=['isFraud', 'TransactionID'], inplace=True)\n",
    "\n",
    "X_test.reset_index(drop=True, inplace=True)\n",
    "y_test = X_test['isFraud']\n",
    "X_test.drop(columns=['isFraud', 'TransactionID'], inplace=True)\n",
    "\n",
    "del raw_data"
   ]
  },
  {
   "cell_type": "markdown",
   "id": "7dc42d2a",
   "metadata": {},
   "source": [
    "### Запрос для одного объекта"
   ]
  },
  {
   "cell_type": "markdown",
   "id": "79b0ded5",
   "metadata": {},
   "source": [
    "Возьмём 50 мошеннических транзакций для тестирования сервиса"
   ]
  },
  {
   "cell_type": "code",
   "execution_count": 3,
   "id": "da481bf0",
   "metadata": {},
   "outputs": [],
   "source": [
    "df_req = X_test[y_test==1].sample(50, random_state=random_state)\n",
    "df_req.reset_index(drop=True, inplace=True)"
   ]
  },
  {
   "cell_type": "markdown",
   "id": "dacf97a5",
   "metadata": {},
   "source": [
    "Для каждой транзакции выполним отдельный запрос"
   ]
  },
  {
   "cell_type": "code",
   "execution_count": 4,
   "id": "4d9972b9",
   "metadata": {},
   "outputs": [
    {
     "name": "stdout",
     "output_type": "stream",
     "text": [
      "CPU times: total: 250 ms\n",
      "Wall time: 4.59 s\n"
     ]
    }
   ],
   "source": [
    "%%time\n",
    "url = 'http://127.0.0.1:8000/predict_one_transaction'\n",
    "api_single_res = []\n",
    "for i in range(df_req.shape[0]):\n",
    "    response = requests.post(url, data=json.dumps(df_req.loc[i].to_dict()), headers={\"Content-Type\": \"application/json\"})\n",
    "    api_single_res.append(response.json())"
   ]
  },
  {
   "cell_type": "markdown",
   "id": "5bf0127f",
   "metadata": {},
   "source": [
    "Результаты запросов: 0 - транзакция не мошенническая, 1 - транзакция мошенническая"
   ]
  },
  {
   "cell_type": "code",
   "execution_count": 5,
   "id": "67cf138c",
   "metadata": {},
   "outputs": [
    {
     "data": {
      "text/plain": [
       "34.0"
      ]
     },
     "execution_count": 5,
     "metadata": {},
     "output_type": "execute_result"
    }
   ],
   "source": [
    "sum(api_single_res)"
   ]
  },
  {
   "cell_type": "code",
   "execution_count": 6,
   "id": "4da7e37e",
   "metadata": {},
   "outputs": [
    {
     "name": "stdout",
     "output_type": "stream",
     "text": [
      "[1.0, 1.0, 1.0, 0.0, 0.0, 0.0, 1.0, 0.0, 1.0, 1.0, 0.0, 1.0, 0.0, 1.0, 1.0, 0.0, 1.0, 1.0, 1.0, 0.0, 1.0, 1.0, 1.0, 1.0, 1.0, 1.0, 1.0, 1.0, 1.0, 1.0, 1.0, 1.0, 0.0, 1.0, 0.0, 1.0, 0.0, 0.0, 0.0, 1.0, 0.0, 1.0, 1.0, 0.0, 1.0, 0.0, 1.0, 1.0, 1.0, 1.0]\n"
     ]
    }
   ],
   "source": [
    "print(api_single_res)"
   ]
  },
  {
   "cell_type": "markdown",
   "id": "c2cfbd38",
   "metadata": {},
   "source": [
    "### Запрос для списка транзакций"
   ]
  },
  {
   "cell_type": "code",
   "execution_count": 7,
   "id": "87474b2b",
   "metadata": {},
   "outputs": [
    {
     "name": "stdout",
     "output_type": "stream",
     "text": [
      "200\n"
     ]
    }
   ],
   "source": [
    "url_items = 'http://127.0.0.1:8000/predict_transactions'\n",
    "lst = []\n",
    "for i in range(df_req.shape[0]):\n",
    "    lst.append(df_req.loc[i].to_dict())\n",
    "response_items = requests.post(url_items, data=json.dumps(lst), headers={\"Content-Type\": \"application/json\"})\n",
    "print(response_items.status_code)"
   ]
  },
  {
   "cell_type": "code",
   "execution_count": 8,
   "id": "ae4d8a72",
   "metadata": {},
   "outputs": [
    {
     "data": {
      "text/plain": [
       "34.0"
      ]
     },
     "execution_count": 8,
     "metadata": {},
     "output_type": "execute_result"
    }
   ],
   "source": [
    "sum(response_items.json())"
   ]
  },
  {
   "cell_type": "code",
   "execution_count": 9,
   "id": "38251c91",
   "metadata": {},
   "outputs": [
    {
     "name": "stdout",
     "output_type": "stream",
     "text": [
      "[1.0, 1.0, 1.0, 0.0, 0.0, 0.0, 1.0, 0.0, 1.0, 1.0, 0.0, 1.0, 0.0, 1.0, 1.0, 0.0, 1.0, 1.0, 1.0, 0.0, 1.0, 1.0, 1.0, 1.0, 1.0, 1.0, 1.0, 1.0, 1.0, 1.0, 1.0, 1.0, 0.0, 1.0, 0.0, 1.0, 0.0, 0.0, 0.0, 1.0, 0.0, 1.0, 1.0, 0.0, 1.0, 0.0, 1.0, 1.0, 1.0, 1.0]\n"
     ]
    }
   ],
   "source": [
    "print(response_items.json())"
   ]
  },
  {
   "cell_type": "markdown",
   "id": "de97aced",
   "metadata": {},
   "source": [
    "### Запрос для тестирования панели 'Total Exception' дашборда 'FastAPI Service' в Grafana.\n",
    "По этому запросу сервис ничего не делает. Только бросает исключение"
   ]
  },
  {
   "cell_type": "code",
   "execution_count": 10,
   "id": "3395a5ad",
   "metadata": {},
   "outputs": [
    {
     "data": {
      "text/plain": [
       "500"
      ]
     },
     "execution_count": 10,
     "metadata": {},
     "output_type": "execute_result"
    }
   ],
   "source": [
    "url_raise_exception = 'http://127.0.0.1:8000/raise_exception'\n",
    "for i in range(50):\n",
    "    resp_raise_exception = requests.get(url_raise_exception)\n",
    "resp_raise_exception.status_code"
   ]
  },
  {
   "cell_type": "markdown",
   "id": "6da6ec48",
   "metadata": {},
   "source": [
    "### Grafana"
   ]
  },
  {
   "cell_type": "markdown",
   "id": "07e09e95",
   "metadata": {},
   "source": [
    "Посмотрим на дашборд 'FastAPI Service'\n",
    "\n",
    "Grafana http://localhost:3000/"
   ]
  },
  {
   "cell_type": "markdown",
   "id": "31ba1745",
   "metadata": {},
   "source": [
    "<center>\n",
    "<img src=\"grafana_dashboard.JPG\"> \n",
    "</center>"
   ]
  },
  {
   "cell_type": "code",
   "execution_count": null,
   "id": "c52dd2a8",
   "metadata": {},
   "outputs": [],
   "source": []
  }
 ],
 "metadata": {
  "kernelspec": {
   "display_name": "Python 3 (ipykernel)",
   "language": "python",
   "name": "python3"
  },
  "language_info": {
   "codemirror_mode": {
    "name": "ipython",
    "version": 3
   },
   "file_extension": ".py",
   "mimetype": "text/x-python",
   "name": "python",
   "nbconvert_exporter": "python",
   "pygments_lexer": "ipython3",
   "version": "3.9.13"
  }
 },
 "nbformat": 4,
 "nbformat_minor": 5
}
