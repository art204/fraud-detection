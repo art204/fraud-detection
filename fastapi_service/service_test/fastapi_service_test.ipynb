{
 "cells": [
  {
   "cell_type": "code",
   "execution_count": 1,
   "id": "bbb482b2",
   "metadata": {},
   "outputs": [],
   "source": [
    "import pandas as pd\n",
    "import numpy as np\n",
    "from sklearn.model_selection import train_test_split\n",
    "\n",
    "import requests\n",
    "import json\n",
    "\n",
    "random_state = 42"
   ]
  },
  {
   "cell_type": "code",
   "execution_count": 2,
   "id": "75e121b5",
   "metadata": {},
   "outputs": [],
   "source": [
    "raw_data = pd.merge(pd.read_csv('../train_transaction.csv'), pd.read_csv('../train_identity.csv'),\n",
    "                    left_on='TransactionID', right_on='TransactionID', how='left')\n"
   ]
  },
  {
   "cell_type": "markdown",
   "id": "fa774cee",
   "metadata": {},
   "source": [
    "Подготовим данные для запроса, по которому выполняется обучение модели."
   ]
  },
  {
   "cell_type": "code",
   "execution_count": 3,
   "id": "657062a4",
   "metadata": {},
   "outputs": [],
   "source": [
    "df_req_train = raw_data.sample(1000, random_state=random_state)\n",
    "df_req_train.reset_index(drop=True, inplace=True)"
   ]
  },
  {
   "cell_type": "markdown",
   "id": "f247603f",
   "metadata": {},
   "source": [
    "Из тестового датасета возьмем 50 мошеннических и 50 немошеннических транзакций для тестирования запросов, по которым выплняется предсказание."
   ]
  },
  {
   "cell_type": "code",
   "execution_count": 4,
   "id": "9beac725",
   "metadata": {},
   "outputs": [],
   "source": [
    "X_train, X_test = train_test_split(raw_data, test_size=0.2, random_state=random_state)\n",
    "\n",
    "X_test.reset_index(drop=True, inplace=True)\n",
    "y_test = X_test['isFraud']\n",
    "\n",
    "del raw_data\n",
    "del X_train"
   ]
  },
  {
   "cell_type": "code",
   "execution_count": 5,
   "id": "da481bf0",
   "metadata": {},
   "outputs": [],
   "source": [
    "df_req_fraud = X_test[y_test==1].sample(50, random_state=random_state)\n",
    "df_req_fraud.reset_index(drop=True, inplace=True)\n",
    "\n",
    "df_req_not_fraud = X_test[y_test==0].sample(50, random_state=random_state)\n",
    "df_req_not_fraud.reset_index(drop=True, inplace=True)"
   ]
  },
  {
   "cell_type": "code",
   "execution_count": 6,
   "id": "b1f09b2a",
   "metadata": {},
   "outputs": [],
   "source": [
    "del X_test"
   ]
  },
  {
   "cell_type": "markdown",
   "id": "7dc42d2a",
   "metadata": {},
   "source": [
    "### Запрос для одного объекта"
   ]
  },
  {
   "cell_type": "markdown",
   "id": "dacf97a5",
   "metadata": {},
   "source": [
    "Для каждой транзакции выполним отдельный запрос"
   ]
  },
  {
   "cell_type": "markdown",
   "id": "5bf0127f",
   "metadata": {},
   "source": [
    "Результаты запросов: 0 - транзакция не мошенническая, 1 - транзакция мошенническая"
   ]
  },
  {
   "cell_type": "code",
   "execution_count": 10,
   "id": "1290de92",
   "metadata": {},
   "outputs": [
    {
     "name": "stdout",
     "output_type": "stream",
     "text": [
      "200\n",
      "{'task_id': 'f732f134-af58-4299-8802-2a66eaba3159'}\n"
     ]
    }
   ],
   "source": [
    "url = 'http://127.0.0.1:8000/predict_one_transaction'\n",
    "response = requests.post(url, data=json.dumps(df_req_fraud.loc[2].to_dict()), headers={\"Content-Type\": \"application/json\"})\n",
    "print(response.status_code)\n",
    "print(response.json())"
   ]
  },
  {
   "cell_type": "code",
   "execution_count": 11,
   "id": "1cb3ea24",
   "metadata": {},
   "outputs": [
    {
     "name": "stdout",
     "output_type": "stream",
     "text": [
      "response status: 200\n",
      "\n",
      "task_id = f732f134-af58-4299-8802-2a66eaba3159\n",
      "task_status = SUCCESS\n",
      "task_result = [1]\n"
     ]
    }
   ],
   "source": [
    "task_id = response.json()['task_id']\n",
    "url = 'http://127.0.0.1:8000/task/' + task_id\n",
    "task_info_resp = requests.get(url)\n",
    "\n",
    "print('response status:', task_info_resp.status_code)\n",
    "print()\n",
    "res = task_info_resp.json()\n",
    "if res['task_status'] != 'SUCCESS':\n",
    "    print('task_status =', res['task_status'])\n",
    "    print('task_id =', res['task_id'])\n",
    "else:\n",
    "    print('task_id =', res['task_id'])\n",
    "    print('task_status =', res['task_status'])\n",
    "    print('task_result =', res['task_result'])"
   ]
  },
  {
   "cell_type": "markdown",
   "id": "c2cfbd38",
   "metadata": {},
   "source": [
    "### Запрос для списка транзакций"
   ]
  },
  {
   "cell_type": "code",
   "execution_count": 22,
   "id": "87474b2b",
   "metadata": {},
   "outputs": [
    {
     "name": "stdout",
     "output_type": "stream",
     "text": [
      "200\n",
      "{'task_id': 'e3292cc2-4b98-46d5-8efe-15cc7698914a'}\n"
     ]
    }
   ],
   "source": [
    "url_items = 'http://127.0.0.1:8000/predict_transactions'\n",
    "lst = []\n",
    "for i in range(df_req_fraud.shape[0]):\n",
    "    lst.append(df_req_fraud.loc[i].to_dict())\n",
    "response_items = requests.post(url_items, data=json.dumps(lst), headers={\"Content-Type\": \"application/json\"})\n",
    "print(response_items.status_code)\n",
    "print(response_items.json())"
   ]
  },
  {
   "cell_type": "code",
   "execution_count": 24,
   "id": "960071a2",
   "metadata": {},
   "outputs": [
    {
     "name": "stdout",
     "output_type": "stream",
     "text": [
      "response status: 200\n",
      "\n",
      "task_id = e3292cc2-4b98-46d5-8efe-15cc7698914a\n",
      "task_status = SUCCESS\n",
      "task_result = [0, 0, 0, 0, 0, 0, 1, 0, 1, 0, 0, 0, 0, 1, 1, 0, 0, 1, 1, 0, 1, 1, 0, 0, 0, 1, 0, 1, 0, 0, 1, 0, 0, 1, 0, 0, 1, 0, 0, 0, 0, 0, 1, 0, 1, 0, 0, 0, 1, 0]\n",
      "detected 16 fraud of 50\n"
     ]
    }
   ],
   "source": [
    "task_id = response_items.json()['task_id']\n",
    "url = 'http://127.0.0.1:8000/task/' + task_id\n",
    "task_info_resp = requests.get(url)\n",
    "\n",
    "print('response status:', task_info_resp.status_code)\n",
    "print()\n",
    "res = task_info_resp.json()\n",
    "if res['task_status'] != 'SUCCESS':\n",
    "    print('task_status =', res['task_status'])\n",
    "    print('task_id =', res['task_id'])\n",
    "else:\n",
    "    print('task_id =', res['task_id'])\n",
    "    print('task_status =', res['task_status'])\n",
    "    print('task_result =', res['task_result'])\n",
    "    print('detected', sum(res['task_result']), 'fraud of', df_req_fraud.shape[0])"
   ]
  },
  {
   "cell_type": "markdown",
   "id": "8a5cbdb5",
   "metadata": {},
   "source": [
    "### Запрос для обучения модели"
   ]
  },
  {
   "cell_type": "code",
   "execution_count": 19,
   "id": "eaf04987",
   "metadata": {},
   "outputs": [
    {
     "data": {
      "text/plain": [
       "{'task_id': '9d425ea0-1815-4ea3-a543-fb04b90ed613'}"
      ]
     },
     "execution_count": 19,
     "metadata": {},
     "output_type": "execute_result"
    }
   ],
   "source": [
    "url_train = 'http://127.0.0.1:8000/train_input_data'\n",
    "response_train = requests.post(url_train, data=json.dumps(df_req_train.to_dict(orient='list')), headers={\"Content-Type\": \"application/json\"})\n",
    "response_train.json()"
   ]
  },
  {
   "cell_type": "code",
   "execution_count": 21,
   "id": "cac6208e",
   "metadata": {},
   "outputs": [
    {
     "name": "stdout",
     "output_type": "stream",
     "text": [
      "response status: 200\n",
      "\n",
      "task_id = 9d425ea0-1815-4ea3-a543-fb04b90ed613\n",
      "task_status = SUCCESS\n",
      "task_result = True\n"
     ]
    }
   ],
   "source": [
    "task_id = response_train.json()['task_id']\n",
    "url = 'http://127.0.0.1:8000/task/' + task_id\n",
    "task_info_resp = requests.get(url)\n",
    "\n",
    "print('response status:', task_info_resp.status_code)\n",
    "print()\n",
    "res = task_info_resp.json()\n",
    "if res['task_status'] != 'SUCCESS':\n",
    "    print('task_status =', res['task_status'])\n",
    "    print('task_id =', res['task_id'])\n",
    "else:\n",
    "    print('task_id =', res['task_id'])\n",
    "    print('task_status =', res['task_status'])\n",
    "    print('task_result =', res['task_result'])"
   ]
  },
  {
   "cell_type": "markdown",
   "id": "aa5105f9",
   "metadata": {},
   "source": [
    "### Добавить транзакцию в БД"
   ]
  },
  {
   "cell_type": "code",
   "execution_count": 18,
   "id": "5323f8b5",
   "metadata": {},
   "outputs": [
    {
     "name": "stdout",
     "output_type": "stream",
     "text": [
      "{'id': 3457624, 'status': 'already in db'}\n",
      "{'id': 3370779, 'status': 'already in db'}\n",
      "{'id': 3205104, 'status': 'already in db'}\n",
      "{'id': 3284271, 'status': 'already in db'}\n",
      "{'id': 3292889, 'status': 'already in db'}\n",
      "{'id': 3416674, 'status': 'already in db'}\n",
      "{'id': 3257408, 'status': 'already in db'}\n",
      "{'id': 3222300, 'status': 'already in db'}\n",
      "{'id': 3382253, 'status': 'already in db'}\n",
      "{'id': 3206312, 'status': 'already in db'}\n"
     ]
    }
   ],
   "source": [
    "url_add_trn = 'http://127.0.0.1:8000/add_transaction'\n",
    "for i in range(0, 1000, 100):\n",
    "    response = requests.post(url_add_trn, data=json.dumps(df_req_train.loc[i].to_dict()), headers={\"Content-Type\": \"application/json\"})\n",
    "    print(response.json())"
   ]
  },
  {
   "cell_type": "markdown",
   "id": "de97aced",
   "metadata": {},
   "source": [
    "### Запрос для тестирования панели 'Total Exception' дашборда 'FastAPI Service' в Grafana.\n",
    "По этому запросу сервис ничего не делает. Только бросает исключение"
   ]
  },
  {
   "cell_type": "code",
   "execution_count": 60,
   "id": "3395a5ad",
   "metadata": {},
   "outputs": [
    {
     "data": {
      "text/plain": [
       "500"
      ]
     },
     "execution_count": 60,
     "metadata": {},
     "output_type": "execute_result"
    }
   ],
   "source": [
    "url_raise_exception = 'http://127.0.0.1:8000/raise_exception'\n",
    "for i in range(50):\n",
    "    resp_raise_exception = requests.get(url_raise_exception)\n",
    "resp_raise_exception.status_code"
   ]
  },
  {
   "cell_type": "markdown",
   "id": "fcf9da8a",
   "metadata": {},
   "source": [
    "### Grafana"
   ]
  },
  {
   "cell_type": "markdown",
   "id": "21d68f3c",
   "metadata": {},
   "source": [
    "Посмотрим на дашборд 'FastAPI Service'\n",
    "\n",
    "Grafana http://localhost:3000/"
   ]
  },
  {
   "cell_type": "markdown",
   "id": "f05c2999",
   "metadata": {},
   "source": [
    "<center>\n",
    "<img src=\"grafana_dashboard.JPG\"> \n",
    "</center>"
   ]
  },
  {
   "cell_type": "code",
   "execution_count": null,
   "id": "71cbdd53",
   "metadata": {},
   "outputs": [],
   "source": []
  }
 ],
 "metadata": {
  "kernelspec": {
   "display_name": "Python 3 (ipykernel)",
   "language": "python",
   "name": "python3"
  },
  "language_info": {
   "codemirror_mode": {
    "name": "ipython",
    "version": 3
   },
   "file_extension": ".py",
   "mimetype": "text/x-python",
   "name": "python",
   "nbconvert_exporter": "python",
   "pygments_lexer": "ipython3",
   "version": "3.10.5"
  }
 },
 "nbformat": 4,
 "nbformat_minor": 5
}
